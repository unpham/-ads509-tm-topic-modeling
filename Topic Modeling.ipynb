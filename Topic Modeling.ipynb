{
 "cells": [
  {
   "cell_type": "markdown",
   "id": "bce2bb89",
   "metadata": {},
   "source": [
    "# ADS 509 Assignment 5.1: Topic Modeling\n",
    "\n",
    "This notebook holds Assignment 5.1 for Module 5 in ADS 509, Applied Text Mining. Work through this notebook, writing code and answering questions where required. \n",
    "\n",
    "In this assignment you will work with a categorical corpus that accompanies `nltk`. You will build the three types of topic models described in Chapter 8 of _Blueprints for Text Analytics using Python_: NMF, LSA, and LDA. You will compare these models to the true categories. \n"
   ]
  },
  {
   "cell_type": "markdown",
   "id": "d87e2c06",
   "metadata": {},
   "source": [
    "## General Assignment Instructions\n",
    "\n",
    "These instructions are included in every assignment, to remind you of the coding standards for the class. Feel free to delete this cell after reading it. \n",
    "\n",
    "One sign of mature code is conforming to a style guide. We recommend the [Google Python Style Guide](https://google.github.io/styleguide/pyguide.html). If you use a different style guide, please include a cell with a link. \n",
    "\n",
    "Your code should be relatively easy-to-read, sensibly commented, and clean. Writing code is a messy process, so please be sure to edit your final submission. Remove any cells that are not needed or parts of cells that contain unnecessary code. Remove inessential `import` statements and make sure that all such statements are moved into the designated cell. \n",
    "\n",
    "Make use of non-code cells for written commentary. These cells should be grammatical and clearly written. In some of these cells you will have questions to answer. The questions will be marked by a \"Q:\" and will have a corresponding \"A:\" spot for you. *Make sure to answer every question marked with a `Q:` for full credit.* \n"
   ]
  },
  {
   "cell_type": "code",
   "execution_count": 34,
   "id": "a85bce08",
   "metadata": {},
   "outputs": [],
   "source": [
    "from nltk.corpus import brown\n",
    "\n",
    "import numpy as np\n",
    "import pandas as pd\n",
    "from tqdm.auto import tqdm\n",
    "\n",
    "import pyLDAvis\n",
    "import pyLDAvis.lda_model\n",
    "import pyLDAvis.gensim_models\n",
    "\n",
    "import spacy\n",
    "from sklearn.feature_extraction.text import TfidfVectorizer, CountVectorizer\n",
    "from sklearn.decomposition import NMF, TruncatedSVD, LatentDirichletAllocation\n",
    "\n",
    "from spacy.lang.en.stop_words import STOP_WORDS as stopwords\n",
    "\n",
    "from collections import Counter, defaultdict\n",
    "\n",
    "nlp = spacy.load('en_core_web_sm')\n",
    "\n",
    "import warnings\n",
    "warnings.filterwarnings(\"ignore\")"
   ]
  },
  {
   "cell_type": "code",
   "execution_count": 19,
   "id": "f28707a0",
   "metadata": {},
   "outputs": [],
   "source": [
    "# import sys\n",
    "# !{sys.executable} -m pip install spacy\n",
    "# print(sys.executable)\n",
    "# import nltk\n",
    "# nltk.download('brown')"
   ]
  },
  {
   "cell_type": "code",
   "execution_count": 62,
   "id": "494de237",
   "metadata": {},
   "outputs": [],
   "source": [
    "# This function comes from the BTAP repo.\n",
    "\n",
    "def display_topics(model, features, no_top_words=5):\n",
    "    for topic, words in enumerate(model.components_):\n",
    "        total = words.sum()\n",
    "        largest = words.argsort()[::-1] # invert sort order\n",
    "        print(\"\\nTopic %02d\" % topic)\n",
    "        for i in range(0, no_top_words):\n",
    "            print(\"  %s (%2.2f)\" % (features[largest[i]], abs(words[largest[i]]*100.0/total)))"
   ]
  },
  {
   "cell_type": "markdown",
   "id": "a30a901c",
   "metadata": {},
   "source": [
    "## Getting to Know the Brown Corpus\n",
    "\n",
    "Let's spend a bit of time getting to know what's in the Brown corpus, our NLTK example of an \"overlapping\" corpus."
   ]
  },
  {
   "cell_type": "code",
   "execution_count": 21,
   "id": "457c59ed",
   "metadata": {},
   "outputs": [
    {
     "name": "stdout",
     "output_type": "stream",
     "text": [
      "For adventure we have 29 articles.\n",
      "For belles_lettres we have 75 articles.\n",
      "For editorial we have 27 articles.\n",
      "For fiction we have 29 articles.\n",
      "For government we have 30 articles.\n",
      "For hobbies we have 36 articles.\n",
      "For humor we have 9 articles.\n",
      "For learned we have 80 articles.\n",
      "For lore we have 48 articles.\n",
      "For mystery we have 24 articles.\n",
      "For news we have 44 articles.\n",
      "For religion we have 17 articles.\n",
      "For reviews we have 17 articles.\n",
      "For romance we have 29 articles.\n",
      "For science_fiction we have 6 articles.\n"
     ]
    }
   ],
   "source": [
    "# categories of articles in Brown corpus\n",
    "for category in brown.categories() :\n",
    "    print(f\"For {category} we have {len(brown.fileids(categories=category))} articles.\")"
   ]
  },
  {
   "cell_type": "markdown",
   "id": "23fb133c",
   "metadata": {},
   "source": [
    "Let's create a dataframe of the articles in of hobbies, editorial, government, news, and romance."
   ]
  },
  {
   "cell_type": "code",
   "execution_count": 22,
   "id": "18f50b9d",
   "metadata": {},
   "outputs": [
    {
     "data": {
      "text/plain": [
       "(166, 3)"
      ]
     },
     "execution_count": 22,
     "metadata": {},
     "output_type": "execute_result"
    }
   ],
   "source": [
    "categories = ['editorial','government','news','romance','hobbies'] \n",
    "\n",
    "category_list = []\n",
    "file_ids = []\n",
    "texts = []\n",
    "\n",
    "for category in categories : \n",
    "    for file_id in brown.fileids(categories=category) :\n",
    "        \n",
    "        # build some lists for a dataframe\n",
    "        category_list.append(category)\n",
    "        file_ids.append(file_id)\n",
    "        \n",
    "        text = brown.words(fileids=file_id)\n",
    "        texts.append(\" \".join(text))\n",
    "\n",
    "        \n",
    "        \n",
    "df = pd.DataFrame()\n",
    "df['category'] = category_list\n",
    "df['id'] = file_ids\n",
    "df['text'] = texts \n",
    "\n",
    "df.shape"
   ]
  },
  {
   "cell_type": "code",
   "execution_count": 29,
   "id": "e04406e8",
   "metadata": {},
   "outputs": [
    {
     "data": {
      "text/html": [
       "<div>\n",
       "<style scoped>\n",
       "    .dataframe tbody tr th:only-of-type {\n",
       "        vertical-align: middle;\n",
       "    }\n",
       "\n",
       "    .dataframe tbody tr th {\n",
       "        vertical-align: top;\n",
       "    }\n",
       "\n",
       "    .dataframe thead th {\n",
       "        text-align: right;\n",
       "    }\n",
       "</style>\n",
       "<table border=\"1\" class=\"dataframe\">\n",
       "  <thead>\n",
       "    <tr style=\"text-align: right;\">\n",
       "      <th></th>\n",
       "      <th>category</th>\n",
       "      <th>id</th>\n",
       "      <th>text</th>\n",
       "      <th>char_len</th>\n",
       "      <th>word_len</th>\n",
       "    </tr>\n",
       "  </thead>\n",
       "  <tbody>\n",
       "    <tr>\n",
       "      <th>0</th>\n",
       "      <td>editorial</td>\n",
       "      <td>cb01</td>\n",
       "      <td>Assembly session brought much good The General...</td>\n",
       "      <td>12659</td>\n",
       "      <td>2200</td>\n",
       "    </tr>\n",
       "    <tr>\n",
       "      <th>1</th>\n",
       "      <td>editorial</td>\n",
       "      <td>cb02</td>\n",
       "      <td>Must Berlin remain divided ? ? The inference h...</td>\n",
       "      <td>12544</td>\n",
       "      <td>2234</td>\n",
       "    </tr>\n",
       "    <tr>\n",
       "      <th>2</th>\n",
       "      <td>editorial</td>\n",
       "      <td>cb03</td>\n",
       "      <td>A good man departs . Goodby , Mr. Sam . Sam Ra...</td>\n",
       "      <td>11871</td>\n",
       "      <td>2244</td>\n",
       "    </tr>\n",
       "    <tr>\n",
       "      <th>3</th>\n",
       "      <td>editorial</td>\n",
       "      <td>cb04</td>\n",
       "      <td>A shock wave from Africa Word of Dag Hammarskj...</td>\n",
       "      <td>12284</td>\n",
       "      <td>2230</td>\n",
       "    </tr>\n",
       "    <tr>\n",
       "      <th>4</th>\n",
       "      <td>editorial</td>\n",
       "      <td>cb05</td>\n",
       "      <td>Help when needed If the Dominican Republic ach...</td>\n",
       "      <td>12479</td>\n",
       "      <td>2241</td>\n",
       "    </tr>\n",
       "  </tbody>\n",
       "</table>\n",
       "</div>"
      ],
      "text/plain": [
       "    category    id                                               text  \\\n",
       "0  editorial  cb01  Assembly session brought much good The General...   \n",
       "1  editorial  cb02  Must Berlin remain divided ? ? The inference h...   \n",
       "2  editorial  cb03  A good man departs . Goodby , Mr. Sam . Sam Ra...   \n",
       "3  editorial  cb04  A shock wave from Africa Word of Dag Hammarskj...   \n",
       "4  editorial  cb05  Help when needed If the Dominican Republic ach...   \n",
       "\n",
       "   char_len  word_len  \n",
       "0     12659      2200  \n",
       "1     12544      2234  \n",
       "2     11871      2244  \n",
       "3     12284      2230  \n",
       "4     12479      2241  "
      ]
     },
     "execution_count": 29,
     "metadata": {},
     "output_type": "execute_result"
    }
   ],
   "source": [
    "df.head()"
   ]
  },
  {
   "cell_type": "code",
   "execution_count": 23,
   "id": "586f47de",
   "metadata": {},
   "outputs": [],
   "source": [
    "# Let's add some helpful columns on the df\n",
    "df['char_len'] = df['text'].apply(len)\n",
    "df['word_len'] = df['text'].apply(lambda x: len(x.split()))\n"
   ]
  },
  {
   "cell_type": "code",
   "execution_count": 25,
   "id": "2128fd2d",
   "metadata": {},
   "outputs": [
    {
     "data": {
      "text/plain": [
       "<AxesSubplot:xlabel='category'>"
      ]
     },
     "execution_count": 25,
     "metadata": {},
     "output_type": "execute_result"
    },
    {
     "data": {
      "image/png": "[encoded data removed]",
      "text/plain": [
       "<Figure size 720x432 with 1 Axes>"
      ]
     },
     "metadata": {
      "needs_background": "light"
     },
     "output_type": "display_data"
    }
   ],
   "source": [
    "%matplotlib inline\n",
    "df.groupby('category').agg({'word_len': 'mean'}).plot.bar(figsize=(10,6))"
   ]
  },
  {
   "cell_type": "markdown",
   "id": "554ffeb5",
   "metadata": {},
   "source": [
    "Now do our TF-IDF and Count vectorizations."
   ]
  },
  {
   "cell_type": "code",
   "execution_count": 27,
   "id": "21a7d247",
   "metadata": {},
   "outputs": [
    {
     "data": {
      "text/plain": [
       "(166, 4941)"
      ]
     },
     "execution_count": 27,
     "metadata": {},
     "output_type": "execute_result"
    }
   ],
   "source": [
    "count_text_vectorizer = CountVectorizer(stop_words=list(stopwords), min_df=5, max_df=0.7)\n",
    "count_text_vectors = count_text_vectorizer.fit_transform(df[\"text\"])\n",
    "count_text_vectors.shape"
   ]
  },
  {
   "cell_type": "code",
   "execution_count": 28,
   "id": "875deba9",
   "metadata": {},
   "outputs": [
    {
     "data": {
      "text/plain": [
       "(166, 4941)"
      ]
     },
     "execution_count": 28,
     "metadata": {},
     "output_type": "execute_result"
    }
   ],
   "source": [
    "tfidf_text_vectorizer = TfidfVectorizer(stop_words=list(stopwords), min_df=5, max_df=0.7)\n",
    "tfidf_text_vectors = tfidf_text_vectorizer.fit_transform(df['text'])\n",
    "tfidf_text_vectors.shape"
   ]
  },
  {
   "cell_type": "markdown",
   "id": "a1062b21",
   "metadata": {},
   "source": [
    "Q: What do the two data frames `count_text_vectors` and `tfidf_text_vectors` hold? \n",
    "\n",
    "A: In count_text_vectors, each cell represents the term frequency (frequency of a term in a document), while in tfidf_text_vectors, each cell represents the TF-IDF value. TF-IDF combines the term frequency and inverse document frequency to measure the importance of a term in a document relative to the entire corpus."
   ]
  },
  {
   "cell_type": "markdown",
   "id": "f77c3f94",
   "metadata": {},
   "source": [
    "## Fitting a Non-Negative Matrix Factorization Model\n",
    "\n",
    "In this section the code to fit a five-topic NMF model has already been written. This code comes directly from the [BTAP repo](https://github.com/blueprints-for-text-analytics-python/blueprints-text), which will help you tremendously in the coming sections. "
   ]
  },
  {
   "cell_type": "code",
   "execution_count": 30,
   "id": "d28745a3",
   "metadata": {},
   "outputs": [],
   "source": [
    "# fit a five-topic NMF model\n",
    "nmf_text_model = NMF(n_components=5, random_state=7)\n",
    "W_text_matrix = nmf_text_model.fit_transform(tfidf_text_vectors)\n",
    "H_text_matrix = nmf_text_model.components_"
   ]
  },
  {
   "cell_type": "code",
   "execution_count": 31,
   "id": "a67185e7",
   "metadata": {},
   "outputs": [
    {
     "name": "stdout",
     "output_type": "stream",
     "text": [
      "\n",
      "Topic 00\n",
      "  mr (0.51)\n",
      "  president (0.45)\n",
      "  kennedy (0.43)\n",
      "  united (0.42)\n",
      "  khrushchev (0.40)\n",
      "\n",
      "Topic 01\n",
      "  said (0.88)\n",
      "  didn (0.46)\n",
      "  ll (0.45)\n",
      "  thought (0.42)\n",
      "  man (0.37)\n",
      "\n",
      "Topic 02\n",
      "  state (0.39)\n",
      "  development (0.36)\n",
      "  tax (0.33)\n",
      "  sales (0.30)\n",
      "  program (0.25)\n",
      "\n",
      "Topic 03\n",
      "  mrs (2.61)\n",
      "  mr (0.78)\n",
      "  said (0.63)\n",
      "  miss (0.52)\n",
      "  car (0.51)\n",
      "\n",
      "Topic 04\n",
      "  game (1.02)\n",
      "  league (0.74)\n",
      "  ball (0.72)\n",
      "  baseball (0.71)\n",
      "  team (0.66)\n"
     ]
    }
   ],
   "source": [
    "display_topics(nmf_text_model, tfidf_text_vectorizer.get_feature_names_out())"
   ]
  },
  {
   "cell_type": "markdown",
   "id": "fee51e9b",
   "metadata": {},
   "source": [
    "Now some work for you to do. Compare the NMF factorization to the original categories from the Brown Corpus.\n",
    "\n",
    "We are interested in the extent to which our NMF factorization agrees or disagrees with the original categories in the corpus. For each topic in your NMF model, tally the Brown categories and interpret the results. \n"
   ]
  },
  {
   "cell_type": "code",
   "execution_count": 86,
   "id": "939c70f5",
   "metadata": {},
   "outputs": [
    {
     "data": {
      "text/plain": [
       "defaultdict(<function __main__.<lambda>()>,\n",
       "            {2: defaultdict(int,\n",
       "                         {'editorial': 2,\n",
       "                          'government': 26,\n",
       "                          'news': 11,\n",
       "                          'hobbies': 26}),\n",
       "             0: defaultdict(int,\n",
       "                         {'editorial': 20, 'government': 4, 'news': 8}),\n",
       "             1: defaultdict(int,\n",
       "                         {'editorial': 4, 'romance': 29, 'hobbies': 8}),\n",
       "             4: defaultdict(int, {'editorial': 1, 'news': 8, 'hobbies': 1}),\n",
       "             3: defaultdict(int, {'news': 17, 'hobbies': 1})})"
      ]
     },
     "execution_count": 86,
     "metadata": {},
     "output_type": "execute_result"
    }
   ],
   "source": [
    "# For each topic in your NMF model, tally the Brown categories\n",
    "topic_to_category = defaultdict(lambda: defaultdict(int))\n",
    "\n",
    "for idx, row in enumerate(W_text_matrix):\n",
    "    topic = np.argmax(row)\n",
    "    category = df['category'].iloc[idx]\n",
    "    topic_to_category[topic][category] += 1\n",
    "topic_to_category "
   ]
  },
  {
   "cell_type": "markdown",
   "id": "f8d4e2bc",
   "metadata": {},
   "source": [
    "Q: How does your five-topic NMF model compare to the original Brown categories? \n",
    "\n",
    "A: The five-topic NMF model shows some agreement with the original Brown categories. For example, topic 02, which is dominated by terms such as \"state,\" \"tax,\" \"program,\" and \"development,\" seems to align well with the 'government' category. Similarly, topic 00, with terms like \"mr,\" \"president,\" \"kennedy,\" and \"united,\" appears to fit with categories such as 'government,' 'news,' or 'editorial. However, topic 01 and 03 with term like \"mrs,\" \"miss,\" \"car,\" and \"said\" or  \"said,\" \"didn,\" \"thought,\" and \"man\" are harder to intepret if it is 'romance', 'hobies', or 'news'. \n"
   ]
  },
  {
   "cell_type": "markdown",
   "id": "82e37cb5",
   "metadata": {},
   "source": [
    "## Fitting an LSA Model\n",
    "\n",
    "In this section, follow the example from the repository and fit an LSA model (called a \"TruncatedSVD\" in `sklearn`). Again fit a five-topic model and compare it to the actual categories in the Brown corpus. Use the TF-IDF vectors for your fit, as above. \n",
    "\n",
    "To be explicit, we are once again interested in the extent to which this LSA factorization agrees or disagrees with the original categories in the corpus. For each topic in your model, tally the Brown categories and interpret the results. \n"
   ]
  },
  {
   "cell_type": "code",
   "execution_count": 89,
   "id": "16c12bb9",
   "metadata": {},
   "outputs": [],
   "source": [
    "# Fit the LSA model\n",
    "lsa_text_model = TruncatedSVD(n_components=5, random_state=7)\n",
    "lsa_text_matrix = lsa_text_model.fit_transform(tfidf_text_vectors)"
   ]
  },
  {
   "cell_type": "code",
   "execution_count": 92,
   "id": "4575317e",
   "metadata": {},
   "outputs": [
    {
     "data": {
      "text/plain": [
       "defaultdict(<function __main__.<lambda>()>,\n",
       "            {0: defaultdict(int,\n",
       "                         {'editorial': 27,\n",
       "                          'government': 30,\n",
       "                          'news': 34,\n",
       "                          'romance': 21,\n",
       "                          'hobbies': 36}),\n",
       "             4: defaultdict(int, {'news': 7}),\n",
       "             3: defaultdict(int, {'news': 3}),\n",
       "             1: defaultdict(int, {'romance': 8})})"
      ]
     },
     "execution_count": 92,
     "metadata": {},
     "output_type": "execute_result"
    }
   ],
   "source": [
    "# For each topic in your NMF model, tally the Brown categories\n",
    "topic_to_category = defaultdict(lambda: defaultdict(int))\n",
    "\n",
    "for idx, row in enumerate(lsa_text_matrix):\n",
    "    topic = np.argmax(row)\n",
    "    category = df['category'].iloc[idx]\n",
    "    topic_to_category[topic][category] += 1\n",
    "topic_to_category "
   ]
  },
  {
   "cell_type": "markdown",
   "id": "4d94d56f",
   "metadata": {},
   "source": [
    "Q: How does your five-topic LSA model compare to the original Brown categories? \n",
    "\n",
    "A: Topic 0 seems to dominate in all categories while topic 4 seems to be particularly associated with the \"news\" category, topic 3 also relates to the \"news\" category, and topic 1 is relates \"romance\" category. We could see that topic 2 missing which show that it has no strong connection to any of the categories. \n"
   ]
  },
  {
   "cell_type": "code",
   "execution_count": 91,
   "id": "377a886e",
   "metadata": {},
   "outputs": [
    {
     "name": "stdout",
     "output_type": "stream",
     "text": [
      "\n",
      "Topic 00\n",
      "  said (0.44)\n",
      "  mr (0.25)\n",
      "  mrs (0.22)\n",
      "  state (0.20)\n",
      "  man (0.17)\n",
      "\n",
      "Topic 01\n",
      "  said (3.89)\n",
      "  ll (2.73)\n",
      "  didn (2.63)\n",
      "  thought (2.20)\n",
      "  got (1.97)\n",
      "\n",
      "Topic 02\n",
      "  mrs (3.17)\n",
      "  mr (1.69)\n",
      "  said (1.06)\n",
      "  kennedy (0.78)\n",
      "  khrushchev (0.76)\n",
      "\n",
      "Topic 03\n",
      "  mrs (27.04)\n",
      "  club (6.03)\n",
      "  game (5.52)\n",
      "  jr (5.17)\n",
      "  university (4.72)\n",
      "\n",
      "Topic 04\n",
      "  game (4.12)\n",
      "  league (2.95)\n",
      "  baseball (2.94)\n",
      "  ball (2.82)\n",
      "  team (2.68)\n"
     ]
    }
   ],
   "source": [
    "# call display_topics on your model\n",
    "display_topics(lsa_text_model, tfidf_text_vectorizer.get_feature_names_out())"
   ]
  },
  {
   "cell_type": "markdown",
   "id": "ea8b280a",
   "metadata": {},
   "source": [
    "Q: What is your interpretation of the display topics output? \n",
    "\n",
    "A: With the display topics output of the LSA model, some interpretation can be made such as: topic 00, 01, 02 is more like story or talk about individuals which are hard to intepret while topic 03 is likely to be about sport or hobbies, and topic 04 is about baseball or sports-related."
   ]
  },
  {
   "cell_type": "markdown",
   "id": "b4ab4d29",
   "metadata": {},
   "source": [
    "## Fitting an LDA Model\n",
    "\n",
    "Finally, fit a five-topic LDA model using the count vectors (`count_text_vectors` from above). Display the results using `pyLDAvis.display` and describe what you learn from that visualization. t"
   ]
  },
  {
   "cell_type": "code",
   "execution_count": 99,
   "id": "802cb8ff",
   "metadata": {},
   "outputs": [],
   "source": [
    "# Fit the LDA model\n",
    "lda_text_model = LatentDirichletAllocation(n_components=5, random_state=7)\n",
    "lda_text_matrix = lda_text_model.fit_transform(count_text_vectors)"
   ]
  },
  {
   "cell_type": "code",
   "execution_count": 101,
   "id": "ab18adf5",
   "metadata": {},
   "outputs": [
    {
     "name": "stdout",
     "output_type": "stream",
     "text": [
      "\n",
      "Topic 00\n",
      "  use (0.59)\n",
      "  water (0.45)\n",
      "  work (0.38)\n",
      "  good (0.37)\n",
      "  high (0.35)\n",
      "\n",
      "Topic 01\n",
      "  said (1.41)\n",
      "  man (0.58)\n",
      "  old (0.53)\n",
      "  little (0.49)\n",
      "  know (0.43)\n",
      "\n",
      "Topic 02\n",
      "  said (0.65)\n",
      "  state (0.61)\n",
      "  president (0.55)\n",
      "  tax (0.43)\n",
      "  city (0.35)\n",
      "\n",
      "Topic 03\n",
      "  mrs (1.52)\n",
      "  mr (0.53)\n",
      "  clay (0.44)\n",
      "  work (0.39)\n",
      "  student (0.38)\n",
      "\n",
      "Topic 04\n",
      "  state (1.41)\n",
      "  states (1.32)\n",
      "  united (1.23)\n",
      "  government (0.89)\n",
      "  shall (0.71)\n"
     ]
    }
   ],
   "source": [
    "# Call `display_topics` on your fitted model here\n",
    "display_topics(lda_text_model, tfidf_text_vectorizer.get_feature_names_out())"
   ]
  },
  {
   "cell_type": "code",
   "execution_count": 102,
   "id": "dbbd133c",
   "metadata": {},
   "outputs": [
    {
     "data": {
      "text/plain": [
       "defaultdict(<function __main__.<lambda>()>,\n",
       "            {2: defaultdict(int,\n",
       "                         {'editorial': 13,\n",
       "                          'government': 14,\n",
       "                          'news': 28,\n",
       "                          'hobbies': 3}),\n",
       "             1: defaultdict(int,\n",
       "                         {'editorial': 11,\n",
       "                          'government': 1,\n",
       "                          'news': 6,\n",
       "                          'romance': 29,\n",
       "                          'hobbies': 5}),\n",
       "             3: defaultdict(int,\n",
       "                         {'editorial': 1,\n",
       "                          'government': 2,\n",
       "                          'news': 9,\n",
       "                          'hobbies': 8}),\n",
       "             4: defaultdict(int,\n",
       "                         {'editorial': 2,\n",
       "                          'government': 8,\n",
       "                          'news': 1,\n",
       "                          'hobbies': 1}),\n",
       "             0: defaultdict(int, {'government': 5, 'hobbies': 19})})"
      ]
     },
     "execution_count": 102,
     "metadata": {},
     "output_type": "execute_result"
    }
   ],
   "source": [
    "# For each topic in your NMF model, tally the Brown categories\n",
    "topic_to_category = defaultdict(lambda: defaultdict(int))\n",
    "\n",
    "for idx, row in enumerate(lda_text_matrix):\n",
    "    topic = np.argmax(row)\n",
    "    category = df['category'].iloc[idx]\n",
    "    topic_to_category[topic][category] += 1\n",
    "topic_to_category "
   ]
  },
  {
   "cell_type": "markdown",
   "id": "f2c67876",
   "metadata": {},
   "source": [
    "Q: What inference do you draw from the displayed topics for your LDA model? \n",
    "\n",
    "A: Topic 00 seems to focus on the use of water, work, and quality. Topic 01 may be discussion about a man, and his age. Topic 02 involves discussions related to the state, president, taxes, and cities. Topic 03 focuses on individuals such as Mrs., Mr., work, and students. Topic 04 is about the state, United States, government.\n",
    "\n",
    "Q: Repeat the tallying of Brown categories within your topics. How does your five-topic LDA model compare to the original Brown categories? \n",
    "\n",
    "A: Mosts topics from LDA model contains different Brown categories. Topic 2 and 4 seems most aligned to the ctergory of government, editorials and news. Other topics are hareder to compare. "
   ]
  },
  {
   "cell_type": "code",
   "execution_count": 76,
   "id": "6aae75ca",
   "metadata": {},
   "outputs": [],
   "source": [
    "lda_display = pyLDAvis.lda_model.prepare(lda_text_model, count_text_vectors, count_text_vectorizer, sort_topics=False)"
   ]
  },
  {
   "cell_type": "code",
   "execution_count": 70,
   "id": "2a89fc15",
   "metadata": {},
   "outputs": [
    {
     "data": {
      "text/html": [
       "\n",
       "<link rel=\"stylesheet\" type=\"text/css\" href=\"https://cdn.jsdelivr.net/gh/bmabey/pyLDAvis@3.4.0/pyLDAvis/js/ldavis.v1.0.0.css\">\n",
       "\n",
       "\n",
       "<div id=\"ldavis_el748611404078989953925220348489\" style=\"background-color:white;\"></div>\n",
       "<script type=\"text/javascript\">\n",
       "\n",
       "var ldavis_el748611404078989953925220348489_data = {\"mdsDat\": {\"x\": [-0.002725924723700147, 0.20053640287703975, -0.07983930965648135, 0.08293324768125049, -0.2009044161781093], \"y\": [0.17333498052702367, -0.04797490352607339, -0.06303107919718771, -0.026287265660566442, -0.03604173214319606], \"topics\": [1, 2, 3, 4, 5], \"cluster\": [1, 1, 1, 1, 1], \"Freq\": [13.486066412815031, 29.51216700220861, 33.22274090478508, 11.512246248114023, 12.266779432077264]}, \"tinfo\": {\"Term\": [\"mrs\", \"state\", \"states\", \"united\", \"said\", \"government\", \"shall\", \"development\", \"tax\", \"000\", \"use\", \"act\", \"secretary\", \"medical\", \"got\", \"peace\", \"university\", \"went\", \"department\", \"didn\", \"clay\", \"ll\", \"old\", \"policy\", \"program\", \"public\", \"nations\", \"mr\", \"don\", \"military\", \"temperature\", \"heating\", \"wildlife\", \"shelter\", \"battery\", \"apparatus\", \"components\", \"drill\", \"shooting\", \"outdoor\", \"cooling\", \"lever\", \"recreation\", \"forests\", \"site\", \"surfaces\", \"attractions\", \"lengths\", \"experiments\", \"inexpensive\", \"trap\", \"lumber\", \"bars\", \"temperatures\", \"package\", \"flexibility\", \"cycle\", \"builder\", \"forest\", \"fig\", \"roof\", \"frame\", \"missile\", \"super\", \"36\", \"aircraft\", \"interference\", \"fishing\", \"af\", \"boat\", \"protection\", \"stations\", \"vacation\", \"inch\", \"materials\", \"heat\", \"pool\", \"water\", \"use\", \"areas\", \"area\", \"plant\", \"air\", \"cost\", \"cut\", \"high\", \"work\", \"national\", \"good\", \"provide\", \"available\", \"10\", \"000\", \"way\", \"system\", \"development\", \"house\", \"large\", \"number\", \"better\", \"best\", \"god\", \"wasn\", \"walked\", \"rayburn\", \"yes\", \"hair\", \"baby\", \"looked\", \"khrushchev\", \"stopped\", \"hadn\", \"sitting\", \"didn\", \"nice\", \"smiled\", \"pale\", \"feed\", \"talked\", \"surprised\", \"girl\", \"somebody\", \"snow\", \"talk\", \"waited\", \"listening\", \"charlie\", \"rome\", \"cattle\", \"went\", \"loved\", \"got\", \"couldn\", \"knew\", \"wanted\", \"eyes\", \"stood\", \"boy\", \"love\", \"cold\", \"gave\", \"thought\", \"ll\", \"saw\", \"know\", \"mother\", \"old\", \"came\", \"man\", \"took\", \"said\", \"little\", \"asked\", \"left\", \"think\", \"away\", \"going\", \"come\", \"don\", \"young\", \"night\", \"let\", \"way\", \"life\", \"good\", \"people\", \"day\", \"right\", \"mr\", \"home\", \"house\", \"tax\", \"election\", \"motors\", \"republican\", \"sen\", \"trust\", \"textile\", \"democratic\", \"revenues\", \"stockholders\", \"promotion\", \"republicans\", \"musical\", \"filing\", \"farmers\", \"assessment\", \"rural\", \"wages\", \"marketing\", \"trial\", \"selling\", \"audience\", \"boats\", \"governor\", \"commissioner\", \"managers\", \"castro\", \"yankees\", \"voters\", \"missouri\", \"cuba\", \"bonds\", \"statement\", \"eisenhower\", \"vote\", \"property\", \"rhode\", \"district\", \"georgia\", \"anti\", \"labor\", \"administration\", \"conference\", \"sales\", \"president\", \"despite\", \"committee\", \"court\", \"county\", \"fiscal\", \"island\", \"faculty\", \"cent\", \"bill\", \"city\", \"report\", \"texas\", \"department\", \"business\", \"general\", \"state\", \"kennedy\", \"plan\", \"industry\", \"local\", \"board\", \"said\", \"american\", \"000\", \"program\", \"public\", \"government\", \"york\", \"mr\", \"national\", \"states\", \"united\", \"week\", \"home\", \"service\", \"orchestra\", \"artist\", \"orleans\", \"masters\", \"ray\", \"painter\", \"gallery\", \"concerts\", \"curriculum\", \"oriental\", \"ann\", \"texture\", \"artists\", \"library\", \"art\", \"decorations\", \"painted\", \"creative\", \"bridge\", \"convey\", \"clarity\", \"academy\", \"chef\", \"measuring\", \"thickness\", \"designer\", \"arts\", \"entertainment\", \"furniture\", \"contemporary\", \"chamber\", \"clay\", \"signs\", \"foundation\", \"mrs\", \"music\", \"student\", \"player\", \"design\", \"interior\", \"sign\", \"color\", \"golf\", \"club\", \"students\", \"university\", \"catholic\", \"volume\", \"formula\", \"college\", \"miss\", \"members\", \"mr\", \"board\", \"jr\", \"work\", \"men\", \"center\", \"family\", \"place\", \"schools\", \"school\", \"set\", \"home\", \"world\", \"good\", \"congo\", \"rehabilitation\", \"hammarskjold\", \"katanga\", \"thereof\", \"coalition\", \"relating\", \"appropriated\", \"bloc\", \"africa\", \"facility\", \"india\", \"projects\", \"independence\", \"commodities\", \"vehicles\", \"soviets\", \"technicians\", \"demonstrated\", \"agricultural\", \"authorized\", \"shall\", \"overseas\", \"relevant\", \"politicians\", \"testing\", \"greece\", \"consequence\", \"financed\", \"generations\", \"agreement\", \"article\", \"medical\", \"provisions\", \"treasury\", \"nations\", \"export\", \"united\", \"agencies\", \"states\", \"peace\", \"secretary\", \"act\", \"cars\", \"policy\", \"state\", \"government\", \"respect\", \"section\", \"development\", \"editor\", \"congress\", \"brown\", \"services\", \"military\", \"commission\", \"countries\", \"000\", \"public\", \"country\", \"program\", \"use\", \"world\", \"service\", \"1960\", \"department\", \"mr\"], \"Freq\": [297.0, 489.0, 332.0, 300.0, 795.0, 275.0, 125.0, 199.0, 181.0, 281.0, 252.0, 130.0, 121.0, 100.0, 146.0, 108.0, 123.0, 136.0, 158.0, 123.0, 80.0, 165.0, 251.0, 93.0, 231.0, 201.0, 78.0, 384.0, 176.0, 121.0, 34.22915052342605, 20.991621269411727, 16.230987418970837, 55.637324455606326, 12.43120717090386, 9.639085608178227, 20.139842928424233, 30.23836046131742, 30.011224226466105, 18.8440232577339, 33.23302281409385, 14.367134170476186, 32.05112950950734, 14.334117611113683, 46.089740158464835, 5.856758911656947, 5.826465929943986, 6.593849021519528, 13.154230015222277, 4.8889021847412275, 9.586929705542302, 24.729838311366958, 24.64509290294723, 11.872621731173336, 8.69565121469275, 9.453796676750912, 4.729146274597637, 20.376105577296048, 34.45891952137973, 25.77701323500798, 24.2191507744517, 30.890582869385458, 32.13082114302549, 15.614110754677109, 23.03737580022337, 43.775921474355485, 28.483761112070805, 14.739397406631914, 53.19516017606138, 31.806399894862775, 35.35993887797783, 41.280602339271304, 28.218327173736284, 43.83097309497681, 34.74401908782399, 29.74223028544322, 46.50798494403348, 76.01475885378406, 99.34726404125789, 51.5042271661016, 55.65551266690665, 39.71893801016929, 44.326619539673196, 45.92441728314105, 41.927512359005384, 58.88220585580714, 63.1064496600625, 57.15673079313909, 62.03960248002578, 43.331844907485696, 43.41764167120884, 44.246404690414224, 51.64862953061438, 49.47160300799823, 42.79017765882605, 45.61514067054406, 46.59060156497241, 42.40890374678974, 41.38775042676209, 41.87032924190899, 40.928907286034196, 62.083885020110976, 57.25130403417549, 46.61244015525819, 45.64001247688143, 39.84245241468389, 35.009378399759306, 35.00742675628438, 83.22257931488723, 70.89758547248266, 35.90758839791239, 31.140751114215455, 31.135536381114576, 120.74778145937248, 27.26586433410591, 26.30521233799626, 26.30400152288552, 94.89990966256944, 21.46444268633584, 21.45383677766498, 43.7755090789437, 20.493098593328636, 20.48273378127704, 48.42763556681133, 18.56705320677363, 18.565632480461076, 18.563360256297365, 18.560561996756196, 20.41203793874376, 130.55935249126313, 17.600976961882324, 138.85777428391182, 50.941314687827344, 85.20096674754689, 66.88793629213205, 92.20196988450311, 45.77486641512602, 76.97228605267071, 56.37145667489113, 63.19303985841615, 64.4019177949944, 123.00853774607722, 142.89907452916597, 80.54398574388509, 159.0686087414183, 84.78228500023307, 195.9445353846279, 132.2364213686628, 213.37213936169914, 101.15756186649837, 517.3191889883884, 179.8112520400486, 99.82959577881608, 128.72477290856685, 109.51950400536761, 101.97088983173846, 107.7180366062893, 139.56061656475657, 134.42942204946763, 107.43150858314807, 114.58291587838043, 96.53544104776545, 153.7799820063706, 111.59251708718236, 151.30191650144675, 137.3263728245397, 144.97591544495793, 122.7442452091382, 122.12854432452903, 110.50733824637098, 106.01425736097423, 179.21534011428068, 55.10113696164212, 46.28667203406956, 39.394885866081644, 29.61667262740345, 38.13311861903192, 28.53165828715386, 59.6726631987644, 20.791983649767086, 20.790189203974442, 20.786571823987714, 19.8064237589562, 20.691540518254193, 17.84868289101445, 17.848457625929807, 17.848188153977237, 18.785799853262578, 19.71766699065658, 41.29430302151325, 35.63933033621999, 16.866499978924786, 16.84646617327996, 38.373982418140415, 55.19316455888697, 15.886151821834517, 15.882762519669823, 28.971669344273597, 25.203445040932593, 14.903337796840361, 14.900990708578377, 36.208806257011794, 31.57661291687059, 37.01868649382675, 37.664954582527685, 52.431193035188066, 88.84923219128842, 78.04292747129524, 61.127422493884616, 39.57095941047133, 53.65301360618943, 62.4421003470258, 113.65478185369814, 47.58129959589888, 101.13002583030641, 228.19960905501407, 30.947906718508005, 91.9530550118237, 90.37636119782633, 85.98973258315716, 90.51918952396309, 95.65935783279171, 47.67212668768194, 63.96119129353231, 75.91152319616863, 144.9020388249394, 72.15641657249796, 51.59908995793073, 110.39551805785891, 136.39883998024487, 131.284527248534, 250.60542685078383, 94.30904106960972, 87.36301946621026, 74.58244063634766, 90.9956851317847, 108.35596224204346, 270.70430197407785, 131.91754043732053, 133.48018685028507, 119.52440656316132, 108.7740560303187, 125.17647613550908, 89.73905867246953, 137.90291641465046, 101.21980208587836, 118.4703570263473, 102.21966340019858, 91.30956392065788, 92.95432233752125, 90.30070677499114, 19.83579202703195, 16.099082292975783, 16.095545659416324, 11.41590185327957, 10.438798478879763, 10.408075133547454, 19.82754406378183, 7.673897233653922, 7.668255541850664, 7.646998535419608, 8.49373554573175, 6.73573859566386, 14.197594738567732, 39.97425741916324, 50.63952446068895, 5.80205213265776, 14.8472201815856, 13.801621174123852, 43.69783804244479, 4.819469059890469, 7.9629753546954785, 12.729353605629504, 5.536460978119215, 14.177240256720802, 11.809490813795327, 14.993767769838007, 19.476217128242393, 13.19451462878706, 16.308599401286237, 14.664486146274896, 22.41578756410854, 62.87981889868014, 28.833154289199094, 26.527661960783433, 218.34085023344423, 46.29647217538103, 54.772683708264076, 34.09621488316952, 50.155442482576014, 29.01543716890056, 37.48242080505043, 40.06573497472052, 19.775826225417436, 53.65779426953665, 36.873963214037836, 52.0291639678364, 20.966662230936343, 25.69977976403957, 23.086917065467745, 46.43845127502643, 40.10269223425876, 47.210698893264315, 76.60510487467027, 48.93212399790944, 30.43255312469445, 56.369930907219214, 46.72936710575424, 32.57191400250451, 36.56466108655518, 41.75990819760592, 32.08930377345906, 36.32617753150155, 32.20284046582161, 33.42722425387931, 33.28250152496656, 33.330425691332096, 41.643446041952416, 18.086605122057087, 12.415931568234095, 18.62512789498012, 11.492326001936668, 9.601747539049843, 9.588026129970677, 7.725052951652863, 7.716298906910612, 16.172858494515992, 7.656992575932295, 33.07396932256994, 47.3891288875797, 25.386779597294403, 15.216062665212256, 37.95011431042944, 5.836839593905014, 5.8269174459979, 6.605542224729655, 21.352752108526406, 26.301000327922782, 109.21952974796174, 10.500163054910624, 7.23650186523616, 6.425283219154224, 19.240662230642826, 5.570280621483525, 5.549046805974096, 10.218215185617913, 9.362834488055118, 53.561884162323956, 33.17769371627796, 78.0115863000514, 19.039451673427063, 21.739075224856727, 56.030551215472, 18.01413734654756, 187.80684126567334, 32.924326265458326, 201.61019154395143, 71.5621120807721, 76.55160788387994, 79.48859526122867, 44.087490924976976, 57.32958237859947, 216.11131753821778, 135.50762859792488, 32.527908157177514, 48.79273673142565, 92.53937889549047, 33.25363602700209, 46.963497017683764, 51.42955582704773, 48.8726198372352, 56.727114211367656, 40.970023655944324, 45.195074626586496, 82.68133169833833, 65.5984339915584, 52.90636314163757, 61.005153511198394, 61.12860193506205, 57.553336703583334, 51.12240291396798, 44.57262445048158, 45.09198961379128, 45.22311207976925], \"Total\": [297.0, 489.0, 332.0, 300.0, 795.0, 275.0, 125.0, 199.0, 181.0, 281.0, 252.0, 130.0, 121.0, 100.0, 146.0, 108.0, 123.0, 136.0, 158.0, 123.0, 80.0, 165.0, 251.0, 93.0, 231.0, 201.0, 78.0, 384.0, 176.0, 121.0, 34.999654049065825, 21.759823915956087, 17.031953795476365, 58.724251351803986, 13.249392057287066, 10.411415273177349, 21.786310112991078, 33.142218225577665, 33.090700933113666, 20.836513106232385, 36.95655993940256, 16.120955708569287, 36.02951859531308, 16.12187416821242, 52.07300017047031, 6.628678569415312, 6.629844421420464, 7.5721645693865405, 15.168866400598583, 5.6826780786984825, 11.34823628946991, 29.415090055046207, 29.39519106786948, 14.178599363371813, 10.432903335082429, 11.353214406627526, 5.681183893244297, 24.584764945106933, 41.65259199608923, 31.232566349287534, 29.421943075464725, 37.97442911456095, 39.98149371521689, 19.01689809326968, 28.549292596064326, 56.22278568265526, 36.188847832179505, 17.986185080844777, 73.62069059376131, 41.86065911140122, 47.59938997407796, 58.748927334117994, 38.01498853160781, 67.18520307451301, 51.322868497369456, 41.85486594132797, 76.68647491177636, 161.08576485543114, 252.86359740884012, 99.77194284288522, 145.41703005735326, 80.41585258661601, 101.330337022222, 116.06358177321013, 96.51473352599078, 218.20614485493437, 257.60594550796753, 214.38057953223066, 305.7470218169182, 113.97555371034912, 119.59694196714004, 146.23201343468082, 281.52258552770627, 273.1660949680667, 142.27728571671582, 199.37408349706357, 231.60654832053876, 142.8568426213414, 136.98754140569207, 158.60874319564763, 137.88023730581205, 62.85182298909585, 58.01607229539043, 47.37737703932377, 46.410274028705416, 40.607379663107054, 35.771681613051854, 35.77164808190215, 85.07153316485835, 72.50123482618653, 36.739749431708816, 31.90308565050154, 31.903108496546988, 123.77858007005294, 28.034419718694604, 27.067364843882554, 27.06732017621512, 97.66232811280011, 22.231580188834645, 22.231756699515252, 45.41493423886562, 21.264352820597335, 21.26414721917433, 50.29183243711573, 19.33019292043091, 19.330143594790968, 19.33009123040957, 19.3300167364305, 21.261961085625536, 136.2118198833192, 18.36304915646204, 146.07607045647487, 53.201096401458315, 89.98744132443042, 70.51631105767427, 97.53121523627867, 48.286968115230096, 82.11873929810551, 59.86040098329705, 67.59944653150066, 69.5088883264649, 139.33893733173446, 165.87057688736868, 89.73621182172388, 190.33502252106015, 96.34508346293282, 251.59365908060053, 161.1560208565652, 280.61107993677047, 119.86811399525163, 795.6314731783727, 236.07069092621774, 118.17803799417926, 160.98921940653673, 133.28623043855106, 122.68318526077924, 132.4390646700575, 184.61030267705007, 176.13751497644125, 134.61350697187999, 150.60965935361463, 121.46215133036853, 273.1660949680667, 160.57842277791497, 305.7470218169182, 264.62664767537666, 301.73400526737623, 212.806972854751, 384.9810616035766, 265.48602912779734, 231.60654832053876, 181.36346896455078, 55.8783534826493, 47.05142339655485, 40.1856334810982, 30.378105214591823, 39.2008830235218, 29.393546219428107, 61.714510701842464, 21.551031352720322, 21.55097339606411, 21.550841290376358, 20.570148860045563, 21.547325276082702, 18.60863415028235, 18.60862039646736, 18.608603240209618, 19.588079121063544, 20.566896450153504, 43.086231569538185, 37.231660759318366, 17.627785655271293, 17.62704806508017, 40.17114017373305, 57.81385139479065, 16.64702032661704, 16.646920794419767, 30.36868181962796, 26.43275624615034, 15.66617282393078, 15.666065306212332, 38.20671946635724, 33.27591993221569, 39.18532661984808, 40.12281507968517, 56.75449294421266, 97.78236595863162, 87.90095729913835, 68.36611412496431, 43.08942995711121, 59.68176102218167, 70.36768241006426, 134.53734299819806, 52.75747562058494, 119.96774029798591, 298.4389822348465, 33.25927047579938, 110.96552539534528, 109.18138698764524, 105.27118872404881, 112.86290450344956, 121.77515621293382, 53.68650884229184, 76.20672211009382, 93.76720880459058, 215.85232055022703, 90.5263612281943, 59.470094418073266, 158.88257048010334, 212.33839572668143, 202.18462103241222, 489.53615580688427, 131.8207076261625, 121.40071276798386, 98.05489102999063, 130.7807441558833, 175.62516119854396, 795.6314731783727, 263.06163612912417, 281.52258552770627, 231.84412466349863, 201.26341942775434, 275.63526819621063, 147.24526220859474, 384.9810616035766, 214.38057953223066, 332.7749296158254, 300.1006217419115, 188.9461018398482, 265.48602912779734, 205.55848071535647, 20.615417814118636, 16.870161815950063, 16.870276617344068, 12.189203066349437, 11.254881460367221, 11.255319626325129, 21.560882996361872, 8.444237625286226, 8.444289450032096, 8.444517453454681, 9.385993502221796, 7.508035163370628, 15.940847854472267, 45.05164068435936, 57.319612494808545, 6.571775872191755, 16.911477317636436, 15.998734644398452, 50.707660211731, 5.637751038116274, 9.411181877229357, 15.068910038701109, 6.574477416336315, 16.8895945700897, 14.076442817026397, 17.90334082038827, 23.52133834092396, 15.95472139673818, 19.76472926996151, 17.83072399175845, 27.358047525873708, 80.0768403485055, 35.82165207877631, 32.86330325977036, 297.45737097357124, 60.40775424499469, 72.74312310556314, 47.25578285364576, 74.57247484590629, 40.40968865826064, 56.88988873618028, 62.525075978277044, 26.430635251373364, 109.59488811512979, 70.61762255567386, 123.95207639565776, 31.268225749170163, 43.71632075417099, 36.80477504718408, 123.89801985286338, 97.4315496376115, 140.36042407964462, 384.9810616035766, 175.62516119854396, 67.18823448275931, 257.60594550796753, 191.8840864060576, 92.68238042622005, 128.87857703575588, 188.9057520142078, 91.1965584462379, 172.0031438547777, 167.78523173295932, 265.48602912779734, 253.60344333284542, 305.7470218169182, 42.4141228499148, 18.8575014196882, 13.204451986091197, 19.81050241245894, 12.261662077917645, 10.377407012213595, 10.377758662631145, 8.49255229715911, 8.492898640544803, 17.909437710777972, 8.495180951261323, 36.79381318642112, 52.891017996800585, 28.36692560625252, 17.013400603711784, 42.486400003083965, 6.608154244755006, 6.60853416596554, 7.554933339044307, 24.591825322182334, 30.291171968383665, 125.81079000530713, 12.267995230607411, 8.505530180815498, 7.559874096627444, 22.642871841981144, 6.607617001716887, 6.608864049472701, 12.26644633531669, 11.323832427471043, 65.41712084937286, 40.72701767193698, 100.06515284697667, 23.692205557925337, 27.535279673313113, 78.05244402244183, 22.75489141272464, 300.1006217419115, 44.35932963990066, 332.7749296158254, 108.46671797281645, 121.17448128057464, 130.7656895009274, 66.5294798581588, 93.68167914385944, 489.53615580688427, 275.63526819621063, 47.59623837211862, 82.6627676528302, 199.37408349706357, 51.248405885912774, 85.18898336250065, 97.44002591821678, 94.87654350466256, 121.70908744620945, 71.7513357993483, 84.34491747212076, 281.52258552770627, 201.26341942775434, 143.36197320221538, 231.84412466349863, 252.86359740884012, 253.60344333284542, 205.55848071535647, 130.24345025991795, 158.88257048010334, 384.9810616035766], \"Category\": [\"Default\", \"Default\", \"Default\", \"Default\", \"Default\", \"Default\", \"Default\", \"Default\", \"Default\", \"Default\", \"Default\", \"Default\", \"Default\", \"Default\", \"Default\", \"Default\", \"Default\", \"Default\", \"Default\", \"Default\", \"Default\", \"Default\", \"Default\", \"Default\", \"Default\", \"Default\", \"Default\", \"Default\", \"Default\", \"Default\", \"Topic1\", \"Topic1\", \"Topic1\", \"Topic1\", \"Topic1\", \"Topic1\", \"Topic1\", \"Topic1\", \"Topic1\", \"Topic1\", \"Topic1\", \"Topic1\", \"Topic1\", \"Topic1\", \"Topic1\", \"Topic1\", \"Topic1\", \"Topic1\", \"Topic1\", \"Topic1\", \"Topic1\", \"Topic1\", \"Topic1\", \"Topic1\", \"Topic1\", \"Topic1\", \"Topic1\", \"Topic1\", \"Topic1\", \"Topic1\", \"Topic1\", \"Topic1\", \"Topic1\", \"Topic1\", \"Topic1\", \"Topic1\", \"Topic1\", \"Topic1\", \"Topic1\", \"Topic1\", \"Topic1\", \"Topic1\", \"Topic1\", \"Topic1\", \"Topic1\", \"Topic1\", \"Topic1\", \"Topic1\", \"Topic1\", \"Topic1\", \"Topic1\", \"Topic1\", \"Topic1\", \"Topic1\", \"Topic1\", \"Topic1\", \"Topic1\", \"Topic1\", \"Topic1\", \"Topic1\", \"Topic1\", \"Topic1\", \"Topic1\", \"Topic1\", \"Topic1\", \"Topic1\", \"Topic1\", \"Topic1\", \"Topic1\", \"Topic1\", \"Topic1\", \"Topic2\", \"Topic2\", \"Topic2\", \"Topic2\", \"Topic2\", \"Topic2\", \"Topic2\", \"Topic2\", \"Topic2\", \"Topic2\", \"Topic2\", \"Topic2\", \"Topic2\", \"Topic2\", \"Topic2\", \"Topic2\", \"Topic2\", \"Topic2\", \"Topic2\", \"Topic2\", \"Topic2\", \"Topic2\", \"Topic2\", \"Topic2\", \"Topic2\", \"Topic2\", \"Topic2\", \"Topic2\", \"Topic2\", \"Topic2\", \"Topic2\", \"Topic2\", \"Topic2\", \"Topic2\", \"Topic2\", \"Topic2\", \"Topic2\", \"Topic2\", \"Topic2\", \"Topic2\", \"Topic2\", \"Topic2\", \"Topic2\", \"Topic2\", \"Topic2\", \"Topic2\", \"Topic2\", \"Topic2\", \"Topic2\", \"Topic2\", \"Topic2\", \"Topic2\", \"Topic2\", \"Topic2\", \"Topic2\", \"Topic2\", \"Topic2\", \"Topic2\", \"Topic2\", \"Topic2\", \"Topic2\", \"Topic2\", \"Topic2\", \"Topic2\", \"Topic2\", \"Topic2\", \"Topic2\", \"Topic2\", \"Topic2\", \"Topic2\", \"Topic3\", \"Topic3\", \"Topic3\", \"Topic3\", \"Topic3\", \"Topic3\", \"Topic3\", \"Topic3\", \"Topic3\", \"Topic3\", \"Topic3\", \"Topic3\", \"Topic3\", \"Topic3\", \"Topic3\", \"Topic3\", \"Topic3\", \"Topic3\", \"Topic3\", \"Topic3\", \"Topic3\", \"Topic3\", \"Topic3\", \"Topic3\", \"Topic3\", \"Topic3\", \"Topic3\", \"Topic3\", \"Topic3\", \"Topic3\", \"Topic3\", \"Topic3\", \"Topic3\", \"Topic3\", \"Topic3\", \"Topic3\", \"Topic3\", \"Topic3\", \"Topic3\", \"Topic3\", \"Topic3\", \"Topic3\", \"Topic3\", \"Topic3\", \"Topic3\", \"Topic3\", \"Topic3\", \"Topic3\", \"Topic3\", \"Topic3\", \"Topic3\", \"Topic3\", \"Topic3\", \"Topic3\", \"Topic3\", \"Topic3\", \"Topic3\", \"Topic3\", \"Topic3\", \"Topic3\", \"Topic3\", \"Topic3\", \"Topic3\", \"Topic3\", \"Topic3\", \"Topic3\", \"Topic3\", \"Topic3\", \"Topic3\", \"Topic3\", \"Topic3\", \"Topic3\", \"Topic3\", \"Topic3\", \"Topic3\", \"Topic3\", \"Topic3\", \"Topic3\", \"Topic3\", \"Topic3\", \"Topic4\", \"Topic4\", \"Topic4\", \"Topic4\", \"Topic4\", \"Topic4\", \"Topic4\", \"Topic4\", \"Topic4\", \"Topic4\", \"Topic4\", \"Topic4\", \"Topic4\", \"Topic4\", \"Topic4\", \"Topic4\", \"Topic4\", \"Topic4\", \"Topic4\", \"Topic4\", \"Topic4\", \"Topic4\", \"Topic4\", \"Topic4\", \"Topic4\", \"Topic4\", \"Topic4\", \"Topic4\", \"Topic4\", \"Topic4\", \"Topic4\", \"Topic4\", \"Topic4\", \"Topic4\", \"Topic4\", \"Topic4\", \"Topic4\", \"Topic4\", \"Topic4\", \"Topic4\", \"Topic4\", \"Topic4\", \"Topic4\", \"Topic4\", \"Topic4\", \"Topic4\", \"Topic4\", \"Topic4\", \"Topic4\", \"Topic4\", \"Topic4\", \"Topic4\", \"Topic4\", \"Topic4\", \"Topic4\", \"Topic4\", \"Topic4\", \"Topic4\", \"Topic4\", \"Topic4\", \"Topic4\", \"Topic4\", \"Topic4\", \"Topic4\", \"Topic4\", \"Topic4\", \"Topic5\", \"Topic5\", \"Topic5\", \"Topic5\", \"Topic5\", \"Topic5\", \"Topic5\", \"Topic5\", \"Topic5\", \"Topic5\", \"Topic5\", \"Topic5\", \"Topic5\", \"Topic5\", \"Topic5\", \"Topic5\", \"Topic5\", \"Topic5\", \"Topic5\", \"Topic5\", \"Topic5\", \"Topic5\", \"Topic5\", \"Topic5\", \"Topic5\", \"Topic5\", \"Topic5\", \"Topic5\", \"Topic5\", \"Topic5\", \"Topic5\", \"Topic5\", \"Topic5\", \"Topic5\", \"Topic5\", \"Topic5\", \"Topic5\", \"Topic5\", \"Topic5\", \"Topic5\", \"Topic5\", \"Topic5\", \"Topic5\", \"Topic5\", \"Topic5\", \"Topic5\", \"Topic5\", \"Topic5\", \"Topic5\", \"Topic5\", \"Topic5\", \"Topic5\", \"Topic5\", \"Topic5\", \"Topic5\", \"Topic5\", \"Topic5\", \"Topic5\", \"Topic5\", \"Topic5\", \"Topic5\", \"Topic5\", \"Topic5\", \"Topic5\", \"Topic5\", \"Topic5\", \"Topic5\"], \"logprob\": [30.0, 29.0, 28.0, 27.0, 26.0, 25.0, 24.0, 23.0, 22.0, 21.0, 20.0, 19.0, 18.0, 17.0, 16.0, 15.0, 14.0, 13.0, 12.0, 11.0, 10.0, 9.0, 8.0, 7.0, 6.0, 5.0, 4.0, 3.0, 2.0, 1.0, -6.1968, -6.6857, -6.9429, -5.711, -7.2096, -7.464, -6.7271, -6.3207, -6.3283, -6.7937, -6.2263, -7.0649, -6.2625, -7.0672, -5.8993, -7.9623, -7.9674, -7.8437, -7.1531, -8.1429, -7.4694, -6.5218, -6.5253, -7.2556, -7.567, -7.4834, -8.1761, -6.7155, -6.1901, -6.4804, -6.5427, -6.2994, -6.26, -6.9817, -6.5927, -5.9508, -6.3805, -7.0393, -5.7559, -6.2702, -6.1643, -6.0095, -6.3899, -5.9495, -6.1818, -6.3373, -5.8902, -5.3989, -5.1312, -5.7882, -5.7107, -6.048, -5.9383, -5.9029, -5.9939, -5.6543, -5.585, -5.6841, -5.6021, -5.961, -5.959, -5.9401, -5.7854, -5.8284, -5.9735, -5.9096, -5.8884, -5.9825, -6.0069, -5.9953, -6.018, -6.3845, -6.4655, -6.6711, -6.6922, -6.8281, -6.9574, -6.9574, -6.0915, -6.2518, -6.932, -7.0745, -7.0746, -5.7193, -7.2074, -7.2432, -7.2433, -5.9602, -7.4466, -7.4471, -6.7339, -7.4929, -7.4934, -6.6329, -7.5916, -7.5917, -7.5918, -7.592, -7.4969, -5.6412, -7.645, -5.5795, -6.5823, -6.068, -6.31, -5.989, -6.6893, -6.1695, -6.481, -6.3668, -6.3479, -5.7007, -5.5509, -6.1242, -5.4437, -6.0729, -5.2352, -5.6284, -5.15, -5.8963, -4.2643, -5.3211, -5.9095, -5.6553, -5.8169, -5.8883, -5.8335, -5.5745, -5.612, -5.8361, -5.7717, -5.9431, -5.4775, -5.7981, -5.4937, -5.5906, -5.5364, -5.7029, -5.7079, -5.8079, -5.8494, -5.4428, -6.6223, -6.7966, -6.9578, -7.2431, -6.9903, -7.2804, -6.5426, -7.5969, -7.5969, -7.5971, -7.6454, -7.6017, -7.7495, -7.7495, -7.7495, -7.6983, -7.6499, -6.9107, -7.058, -7.8061, -7.8073, -6.984, -6.6206, -7.866, -7.8662, -7.2651, -7.4044, -7.9298, -7.93, -7.0421, -7.179, -7.02, -7.0027, -6.6719, -6.1445, -6.2742, -6.5185, -6.9533, -6.6489, -6.4972, -5.8983, -6.769, -6.015, -5.2012, -7.1991, -6.1101, -6.1274, -6.1772, -6.1259, -6.0706, -6.7671, -6.4731, -6.3019, -5.6554, -6.3526, -6.6879, -5.9274, -5.7158, -5.7541, -5.1075, -6.0848, -6.1614, -6.3195, -6.1206, -5.946, -5.0304, -5.7492, -5.7375, -5.8479, -5.9422, -5.8017, -6.1345, -5.7049, -6.0141, -5.8568, -6.0043, -6.1172, -6.0993, -6.1283, -6.5841, -6.7928, -6.7931, -7.1366, -7.2261, -7.229, -6.5845, -7.5338, -7.5345, -7.5373, -7.4323, -7.6642, -6.9185, -5.8834, -5.6469, -7.8134, -6.8738, -6.9468, -5.7943, -7.9989, -7.4968, -7.0277, -7.8602, -6.92, -7.1027, -6.864, -6.6024, -6.9918, -6.7799, -6.8862, -6.4618, -5.4304, -6.2101, -6.2934, -4.1855, -5.7365, -5.5684, -6.0424, -5.6565, -6.2038, -5.9477, -5.8811, -6.5871, -5.589, -5.9641, -5.6198, -6.5287, -6.3251, -6.4323, -5.7335, -5.8802, -5.717, -5.2329, -5.6812, -6.1561, -5.5397, -5.7272, -6.0882, -5.9725, -5.8397, -6.1031, -5.9791, -6.0995, -6.0622, -6.0666, -6.0651, -5.9059, -6.7399, -7.1161, -6.7106, -7.1934, -7.3731, -7.3746, -7.5906, -7.5918, -6.8518, -7.5995, -6.1363, -5.7767, -6.4009, -6.9127, -5.9988, -7.8709, -7.8726, -7.7472, -6.5739, -6.3655, -4.9417, -7.2837, -7.6559, -7.7748, -6.6781, -7.9176, -7.9215, -7.3109, -7.3983, -5.6542, -6.1332, -5.2782, -6.6886, -6.556, -5.6092, -6.7439, -4.3997, -6.1409, -4.3287, -5.3645, -5.2971, -5.2595, -5.8489, -5.5863, -4.2593, -4.7261, -6.153, -5.7475, -5.1075, -6.1309, -5.7857, -5.6949, -5.7459, -5.5968, -5.9222, -5.8241, -5.2201, -5.4515, -5.6666, -5.5241, -5.5221, -5.5824, -5.7009, -5.838, -5.8264, -5.8235], \"loglift\": [30.0, 29.0, 28.0, 27.0, 26.0, 25.0, 24.0, 23.0, 22.0, 21.0, 20.0, 19.0, 18.0, 17.0, 16.0, 15.0, 14.0, 13.0, 12.0, 11.0, 10.0, 9.0, 8.0, 7.0, 6.0, 5.0, 4.0, 3.0, 2.0, 1.0, 1.9813, 1.9676, 1.9553, 1.9495, 1.9398, 1.9264, 1.9249, 1.9118, 1.9058, 1.903, 1.8973, 1.8883, 1.8865, 1.886, 1.8815, 1.8797, 1.8743, 1.8652, 1.861, 1.8531, 1.8349, 1.83, 1.8273, 1.826, 1.8214, 1.8204, 1.8201, 1.8157, 1.8139, 1.8115, 1.8089, 1.7971, 1.7849, 1.8064, 1.789, 1.7533, 1.7641, 1.8044, 1.6786, 1.7288, 1.7063, 1.6506, 1.7055, 1.5764, 1.6134, 1.6619, 1.5034, 1.2525, 1.0693, 1.3423, 1.0431, 1.2981, 1.1767, 1.0764, 1.1698, 0.6936, 0.5969, 0.6816, 0.4085, 1.0364, 0.9903, 0.8081, 0.3078, 0.2948, 0.802, 0.5286, 0.3999, 0.789, 0.8066, 0.6717, 0.789, 1.2081, 1.2071, 1.2041, 1.2036, 1.2014, 1.1988, 1.1988, 1.1984, 1.198, 1.1975, 1.1962, 1.196, 1.1956, 1.1926, 1.1918, 1.1918, 1.1917, 1.1853, 1.1847, 1.1836, 1.1834, 1.1829, 1.1826, 1.1801, 1.18, 1.1799, 1.1797, 1.1796, 1.178, 1.178, 1.1697, 1.177, 1.1657, 1.1675, 1.1642, 1.1669, 1.1556, 1.1603, 1.153, 1.1441, 1.0957, 1.0713, 1.1123, 1.0409, 1.0925, 0.9704, 1.0226, 0.9464, 1.0507, 0.7899, 0.9481, 1.0516, 0.9967, 1.024, 1.0354, 1.0138, 0.9406, 0.9501, 0.9948, 0.947, 0.9907, 0.6458, 0.8564, 0.5169, 0.5644, 0.4874, 0.6701, 0.0722, 0.3439, 0.4389, 1.09, 1.0879, 1.0855, 1.0821, 1.0766, 1.0743, 1.0722, 1.0683, 1.0661, 1.066, 1.0658, 1.0641, 1.0614, 1.0602, 1.0602, 1.0602, 1.0601, 1.0598, 1.0595, 1.0582, 1.0578, 1.0566, 1.0562, 1.0555, 1.0552, 1.0549, 1.0548, 1.0543, 1.052, 1.0519, 1.0482, 1.0495, 1.0451, 1.0387, 1.0227, 1.0061, 0.983, 0.99, 1.0168, 0.9954, 0.9824, 0.9333, 0.9987, 0.9311, 0.8336, 1.0299, 0.914, 0.9129, 0.8996, 0.8813, 0.8606, 0.9831, 0.9268, 0.8907, 0.7034, 0.8751, 0.96, 0.7378, 0.6593, 0.6701, 0.4324, 0.7671, 0.7729, 0.8283, 0.7392, 0.619, 0.0238, 0.4117, 0.3557, 0.4394, 0.4866, 0.3126, 0.6067, 0.0753, 0.3515, 0.0691, 0.0249, 0.3747, 0.0525, 0.2794, 2.1232, 2.115, 2.1147, 2.0962, 2.0865, 2.0835, 2.078, 2.0661, 2.0654, 2.0626, 2.0619, 2.0532, 2.0459, 2.0422, 2.0378, 2.0372, 2.0316, 2.014, 2.013, 2.0049, 1.9947, 1.993, 1.9899, 1.9867, 1.9862, 1.9844, 1.973, 1.9718, 1.9696, 1.9663, 1.9625, 1.92, 1.9447, 1.9476, 1.8525, 1.8957, 1.878, 1.8354, 1.7651, 1.8305, 1.7445, 1.7167, 1.8717, 1.4476, 1.512, 1.2937, 1.7621, 1.6305, 1.6954, 1.1804, 1.2741, 1.0722, 0.5472, 0.8838, 1.3698, 0.6423, 0.7492, 1.116, 0.902, 0.6524, 1.1173, 0.6068, 0.5111, 0.0896, 0.131, -0.0545, 2.0799, 2.0565, 2.0367, 2.0366, 2.0335, 2.0206, 2.0191, 2.0036, 2.0024, 1.9963, 1.9944, 1.9917, 1.9884, 1.9873, 1.9866, 1.9854, 1.9742, 1.9724, 1.964, 1.957, 1.957, 1.9569, 1.9427, 1.9367, 1.9357, 1.9355, 1.9275, 1.9235, 1.9156, 1.9081, 1.8983, 1.8933, 1.8493, 1.8796, 1.8619, 1.7668, 1.8647, 1.6296, 1.8002, 1.5971, 1.6824, 1.639, 1.6005, 1.6868, 1.6072, 1.2806, 1.3882, 1.7176, 1.5711, 1.3307, 1.6658, 1.5028, 1.4593, 1.4349, 1.3349, 1.5379, 1.4743, 0.8731, 0.9772, 1.1014, 0.7632, 0.6784, 0.6152, 0.7068, 1.026, 0.8388, -0.0433]}, \"token.table\": {\"Topic\": [1, 2, 3, 4, 5, 1, 2, 3, 4, 5, 1, 3, 4, 5, 1, 3, 3, 4, 1, 2, 3, 4, 5, 1, 2, 3, 5, 1, 3, 4, 4, 5, 1, 2, 4, 5, 2, 3, 5, 2, 3, 5, 1, 2, 3, 4, 5, 1, 3, 1, 2, 3, 4, 5, 4, 2, 3, 5, 1, 5, 1, 2, 3, 4, 5, 1, 2, 3, 4, 5, 2, 3, 4, 5, 2, 3, 4, 5, 4, 4, 5, 3, 4, 5, 2, 3, 4, 3, 1, 3, 3, 5, 1, 3, 4, 5, 1, 2, 3, 4, 2, 1, 3, 5, 1, 1, 2, 3, 4, 5, 1, 2, 3, 4, 5, 1, 2, 3, 4, 5, 1, 2, 3, 4, 5, 1, 2, 3, 4, 2, 3, 3, 4, 1, 2, 3, 1, 2, 4, 1, 2, 4, 5, 1, 5, 1, 2, 3, 4, 5, 2, 3, 4, 5, 2, 3, 4, 5, 2, 3, 2, 3, 4, 2, 1, 2, 3, 4, 1, 2, 3, 4, 5, 3, 4, 2, 4, 1, 2, 3, 4, 5, 3, 4, 1, 2, 3, 4, 1, 2, 3, 4, 5, 1, 2, 4, 1, 2, 3, 4, 2, 3, 4, 1, 2, 3, 4, 1, 2, 3, 5, 3, 2, 3, 4, 5, 3, 5, 1, 3, 4, 3, 5, 5, 2, 3, 4, 5, 5, 1, 4, 4, 1, 2, 1, 2, 3, 4, 5, 2, 3, 2, 3, 4, 5, 1, 2, 3, 4, 5, 1, 2, 3, 4, 2, 3, 4, 5, 3, 4, 2, 3, 4, 1, 2, 3, 4, 1, 1, 2, 3, 4, 5, 4, 3, 5, 5, 1, 3, 5, 1, 3, 4, 5, 3, 4, 3, 5, 1, 3, 4, 5, 1, 2, 3, 3, 5, 1, 2, 3, 4, 1, 3, 5, 1, 2, 3, 4, 5, 3, 5, 3, 1, 4, 1, 2, 3, 4, 5, 1, 2, 4, 5, 2, 3, 4, 1, 2, 3, 4, 3, 1, 2, 3, 1, 2, 4, 3, 1, 5, 3, 5, 1, 2, 4, 1, 5, 1, 3, 4, 1, 3, 3, 4, 5, 1, 2, 4, 1, 2, 2, 4, 1, 4, 1, 2, 3, 4, 1, 2, 3, 4, 5, 1, 5, 2, 3, 2, 4, 2, 1, 2, 3, 5, 2, 3, 4, 1, 2, 3, 4, 5, 1, 2, 3, 1, 2, 3, 5, 2, 3, 5, 2, 2, 5, 1, 2, 3, 4, 1, 1, 2, 3, 4, 5, 1, 2, 3, 4, 5, 1, 2, 3, 4, 5, 1, 2, 3, 4, 3, 5, 3, 4, 5, 1, 3, 4, 5, 1, 1, 2, 3, 3, 4, 5, 1, 2, 3, 4, 5, 3, 4, 2, 5, 2, 3, 4, 2, 5, 2, 3, 1, 2, 3, 4, 1, 2, 3, 5, 1, 2, 3, 4, 5, 1, 2, 3, 4, 5, 1, 1, 2, 3, 4, 5, 1, 3, 2, 4, 5, 1, 2, 3, 4, 5, 2, 1, 2, 3, 4, 5, 1, 2, 3, 4, 1, 2, 3, 4, 5, 1, 2, 2, 4, 2, 1, 2, 1, 2, 3, 4, 5, 3, 3, 5, 4, 1, 3, 4, 1, 4, 1, 2, 4, 5, 1, 2, 3, 4, 5, 1, 2, 3, 4, 5, 1, 2, 3, 5, 2, 3, 4, 1, 3, 3, 2, 4, 3, 1, 2, 3, 4, 5, 2, 3, 4, 2, 3, 4, 3, 1, 2, 3, 4, 5, 2, 3, 5, 2, 1, 2, 3, 4, 1, 2, 3, 4, 5, 1, 2, 3, 4, 5, 4, 4, 4, 1, 2, 1, 5, 1, 2, 2, 4, 4, 2, 2, 3, 4, 5, 1, 2, 3, 4, 5, 1, 2, 3, 4, 5, 1, 2, 3, 4, 5, 1, 2, 3, 4, 5, 2, 3, 4, 2, 3, 5, 2, 5, 1, 2, 4, 5, 2, 3, 4, 5, 1, 3, 4, 5, 1, 3, 4, 5, 3, 1, 2, 3, 5, 1, 2, 3, 5, 1, 3, 5, 3, 4, 5, 1, 2, 3, 4, 5, 4, 2, 1, 3, 5, 5, 5, 2, 5, 1, 2, 3, 5, 3, 3, 2, 3, 5, 3, 2, 3, 5, 1, 2, 3, 4, 5, 2, 1, 2, 3, 2, 3, 4, 5, 1, 2, 3, 4, 5, 1, 2, 3, 4, 5, 1, 2, 3, 4, 1, 2, 3, 4, 5, 2, 3, 4, 5, 1, 2, 3, 4, 5, 3, 3, 1, 2, 3, 4, 5, 1, 2, 3, 4, 5, 1, 2, 3, 4, 5, 1, 2, 3, 5, 1, 3, 1, 4, 1, 2, 3, 4, 2, 3, 4, 5, 1, 3, 4, 5, 2, 2, 2, 2, 5, 1, 2, 3, 4, 5, 2, 3, 1, 2, 3, 4, 5, 1, 2, 4, 5, 3, 2, 4, 2, 1, 2, 3, 4, 1, 2, 3, 4, 5, 1, 3, 1, 2, 1, 2, 3, 4, 5, 2, 3, 2, 3, 5, 5, 1, 1, 4, 1, 5, 3, 4, 5, 3, 4, 5, 1, 4, 1, 2, 3, 4, 1, 2, 3, 1, 2, 3, 4, 5, 1, 4, 3, 5, 2, 3, 2, 3, 1, 2, 3, 4, 5, 2, 3, 4, 5, 1, 2, 3, 4, 5, 1, 2, 3, 4, 1, 3, 5, 1, 2, 3, 4, 2, 3, 5, 3, 3, 2, 2, 1, 2, 4, 2, 1, 2, 3, 4, 5, 1, 2, 3, 4, 5, 1, 2, 3, 4, 5, 2, 3, 4, 1, 1, 2, 3, 4, 5, 1, 2, 3, 4, 5, 3, 4, 2, 1, 2, 3, 4, 5, 1, 2, 3, 4], \"Freq\": [0.1847098693787834, 0.010656338618006734, 0.4724310120649652, 0.03907324159935802, 0.29482536843151963, 0.3008917060398269, 0.04103068718724912, 0.485529798382448, 0.08206137437449824, 0.08889982223903976, 0.03071171711143611, 0.5912005543951451, 0.03071171711143611, 0.34550681750365625, 0.8056241646831793, 0.17513568797460422, 0.132723600768964, 0.862703404998266, 0.007647265913685316, 0.030589063654741264, 0.30589063654741266, 0.03823632956842658, 0.60413400718114, 0.007432880549851454, 0.007432880549851454, 0.8473483826830658, 0.13379184989732618, 0.7199063140069386, 0.013583138000130918, 0.2580796220024874, 0.05583648220279947, 0.8933837152447915, 0.09017268819143855, 0.06762951614357891, 0.09017268819143855, 0.743924677579368, 0.04585955421223281, 0.12229214456595415, 0.8254719758201905, 0.0406639192861369, 0.0406639192861369, 0.8539423050088749, 0.4342233658055503, 0.3355362372133798, 0.11842455431060463, 0.07894970287373643, 0.039474851436868214, 0.7826008524080302, 0.21343659611128096, 0.030411123863280425, 0.2508917718720635, 0.501783543744127, 0.07602780965820106, 0.144452838350582, 0.8523338523627029, 0.06702215101383045, 0.9047990386867112, 0.033511075506915226, 0.9604842125318671, 0.9420018529266077, 0.38509932418447346, 0.027507094584605245, 0.3644690032460195, 0.20630320938453933, 0.020630320938453933, 0.5211886079224339, 0.010022857844662192, 0.4009143137864877, 0.020045715689324384, 0.05011428922331096, 0.05233810679148801, 0.05233810679148801, 0.8897478154552961, 0.01744603559716267, 0.02455372519675193, 0.12276862598375964, 0.02455372519675193, 0.8102729314928137, 0.9484200670127918, 0.8782468867283145, 0.0627319204805939, 0.08502917525404026, 0.8077771649133825, 0.04251458762702013, 0.8461809122683641, 0.1438507550856219, 0.00846180912268364, 0.9672945232721958, 0.9049986121264791, 0.9644269384887889, 0.09903875634561919, 0.8583358883286997, 0.3595409656194596, 0.16722835610207423, 0.10869843146634825, 0.3595409656194596, 0.048906457614759605, 0.8314097794509132, 0.081510762691266, 0.032604305076506405, 0.978428500690396, 0.8504792481967005, 0.06803833985573604, 0.06803833985573604, 0.9057019331992738, 0.29735951142195877, 0.2756014983910837, 0.22483280131904199, 0.15955876222641688, 0.04351602606175006, 0.26480255220351884, 0.5359099270785501, 0.13870609877327178, 0.050438581372098834, 0.018914468014537063, 0.03199412713939213, 0.13864121760403256, 0.8105178875312672, 0.021329418092928085, 0.9419634377606106, 0.06263339446882851, 0.0341636697102701, 0.6149460547848618, 0.27900330263387246, 0.005693944951711684, 0.7644409017746316, 0.07166633454137172, 0.1194438909022862, 0.02388877818045724, 0.024893493081729258, 0.9459527371057118, 0.9616563588680707, 0.030051761214627208, 0.048709953832575224, 0.9376666112770731, 0.012177488458143806, 0.0591626588068436, 0.0591626588068436, 0.8677189958337062, 0.0307881691505086, 0.20525446100339065, 0.23604263015389926, 0.5233988755586462, 0.813511947120754, 0.16270238942415083, 0.004709463856396391, 0.13186498797909893, 0.6404870844699091, 0.07535142170234226, 0.14599337954828812, 0.8190820255948419, 0.06825683546623683, 0.055846501745102854, 0.055846501745102854, 0.12024744544908576, 0.1503093068113572, 0.06012372272454288, 0.6613609499699717, 0.03292866005641633, 0.9549311416360736, 0.19188808626787004, 0.1279253908452467, 0.6716083019375452, 0.9406470042653449, 0.01312220198311806, 0.10497761586494447, 0.8398209269195558, 0.03936660594935418, 0.16184305939294225, 0.18342213397866788, 0.2697384323215704, 0.35605473066447296, 0.03236861187858845, 0.14620926424727584, 0.8041509533600171, 0.9829234520171184, 0.912620063929515, 0.023163985391746307, 0.18531188313397046, 0.6717555763606429, 0.05559356494019113, 0.0602263620185404, 0.10625657999656034, 0.8500526399724827, 0.07492803129952642, 0.04995202086635094, 0.08741603651611415, 0.7867443286450274, 0.02737353951078895, 0.33760698729973043, 0.14599221072420776, 0.49272371119420116, 0.963631857961299, 0.04437906157415106, 0.9319602930571722, 0.014793020524717019, 0.008071154011884631, 0.20985000430900042, 0.40355770059423157, 0.37127308454669306, 0.31987166248224247, 0.031987166248224244, 0.6397433249644849, 0.070418605091297, 0.7583542086755063, 0.140837210182594, 0.02708407888126808, 0.02787404551732632, 0.05574809103465264, 0.348425568966579, 0.5714179331051896, 0.9611329647034482, 0.009011807914550255, 0.8290863281386235, 0.14418892663280408, 0.01802361582910051, 0.05877719706322743, 0.8816579559484115, 0.9180076798812338, 0.04590038399406169, 0.947391624324266, 0.9098236683119716, 0.09477329878249705, 0.9902362038375708, 0.03521582112600454, 0.3756354253440485, 0.03521582112600454, 0.5517145309740712, 0.9078716032112538, 0.1682489169473226, 0.841244584736613, 0.8868784673525839, 0.8929402534789465, 0.08117638667990422, 0.3963344857811182, 0.017231934164396442, 0.1981672428905591, 0.025847901246594664, 0.3618706174523253, 0.9586268601524915, 0.03759321020205849, 0.035568236829345595, 0.4031066840659167, 0.011856078943115198, 0.5335235524401839, 0.03487675210041497, 0.16740841008199187, 0.27203866638323676, 0.15345770924182586, 0.3696935722643987, 0.03799710109178443, 0.06649492691062275, 0.8169376734733652, 0.07599420218356887, 0.045795351551687014, 0.8243163279303662, 0.045795351551687014, 0.07327256248269923, 0.12500988637249816, 0.875069204607487, 0.026173406509829914, 0.942242634353877, 0.947385809941604, 0.43516671979091853, 0.14505557326363952, 0.248666697023382, 0.165777798015588, 0.8800982495823947, 0.05634101461297261, 0.48055571287535465, 0.2651341864139888, 0.07291190126384692, 0.12593873854664467, 0.9129952263571244, 0.9722186778709845, 0.016203644631183074, 0.9265468913965949, 0.01888186974149997, 0.692335223854999, 0.2832280461224996, 0.16091728247984718, 0.13409773539987266, 0.6704886769993632, 0.013409773539987265, 0.11171099405773509, 0.8378324554330132, 0.9320709551508862, 0.06013361000973459, 0.2307220637364209, 0.29091042818940027, 0.015047091113244841, 0.46645982451059004, 0.008078942248602677, 0.9775520120809239, 0.016157884497205354, 0.8922548952906696, 0.10238990601696209, 0.1987083785341318, 0.7607692206735333, 0.02270952897532935, 0.017032146731497014, 0.9051898637505005, 0.030172995458350015, 0.030172995458350015, 0.019512802061124816, 0.25366642679462265, 0.019512802061124816, 0.03902560412224963, 0.6439224680171189, 0.9470920702979292, 0.049846951068312065, 0.9842809705743739, 0.1253547429796477, 0.81480582936771, 0.8570185573977369, 0.06592450441521053, 0.17578638049501663, 0.04394659512375416, 0.7910387122275748, 0.010253127653309812, 0.9432877441045027, 0.041012510613239246, 0.9417103703732407, 0.01862665354041879, 0.8940793699401018, 0.09313326770209394, 0.1939810368410883, 0.46555448841861197, 0.054314690315504725, 0.2870919345248107, 0.9672936314729221, 0.010239362703344515, 0.972739456817729, 0.010239362703344515, 0.8324644126015953, 0.06403572404627657, 0.09605358606941485, 0.967292916537181, 0.08152320343348915, 0.8152320343348916, 0.8062879508582792, 0.19492675735035322, 0.8339734041753494, 0.05559822694502329, 0.11119645389004658, 0.7927270355033709, 0.08808078172259676, 0.8162757314885054, 0.048016219499323845, 0.09603243899864769, 0.8683853908005231, 0.06202752791432308, 0.13585193751598676, 0.624918912573539, 0.2173631000255788, 0.1521453872265103, 0.03042907744530206, 0.8215850910231557, 0.8163388027896207, 0.15800105860444272, 0.1517855346776446, 0.8095228516141045, 0.046380289720450565, 0.9276057944090114, 0.014386649305960182, 0.9207455555814517, 0.014386649305960182, 0.043159947917880546, 0.029675847595936288, 0.03462182219525901, 0.6479226725112757, 0.07418961898984072, 0.21267690777087675, 0.08830932516928197, 0.7947839265235378, 0.06962264302373067, 0.9283019069830756, 0.9688442962083003, 0.022019188550188643, 0.9864471235902953, 0.06040513816622175, 0.8154693652439936, 0.10570899179088807, 0.022651926812333155, 0.18917441644692193, 0.03783488328938439, 0.7566976657876877, 0.2027820242747146, 0.4938723494432565, 0.18315795740941962, 0.10793236775912228, 0.00981203343264748, 0.006845748224709824, 0.9515590032346656, 0.04107448934825894, 0.014511931024561794, 0.03990781031754494, 0.4534978445175561, 0.493405654835101, 0.0345937859483309, 0.9513291135790999, 0.9080429447470991, 0.9716928431188491, 0.9784275835450158, 0.9087844018547762, 0.7167625394393549, 0.21502876183180644, 0.04778416929595699, 0.023892084647978495, 0.9650813389441575, 0.27038651931284424, 0.2291411180617324, 0.34371167709259864, 0.10998773666963156, 0.041245401251111834, 0.08663356062675698, 0.41810109693782715, 0.35030091905601735, 0.12430032611665132, 0.01883338274494717, 0.20293035901106282, 0.4576727245781417, 0.28496603605808823, 0.030223670491009356, 0.02590600327800802, 0.6549061100730912, 0.02976845954877687, 0.07442114887194218, 0.2530319061646034, 0.07050464430869338, 0.8813080538586672, 0.027178482288132435, 0.05435696457626487, 0.8968899155083704, 0.0713885857856801, 0.7648777048465725, 0.1223804327754516, 0.0407934775918172, 0.8798668393239623, 0.7737190233258022, 0.02763282226163579, 0.19342975583145056, 0.0494930811497642, 0.717649676671581, 0.2227188651739389, 0.01642371122483174, 0.0821185561241587, 0.7883381387919236, 0.04105927806207935, 0.07390670051174283, 0.535808096121914, 0.4465067467682617, 0.05047827557220831, 0.9590872358719579, 0.27309821535850315, 0.7130897845472026, 0.007586061537736198, 0.9792936654143123, 0.013792868526962146, 0.9445762514076906, 0.04445064712506779, 0.04203115062082081, 0.8353691185888136, 0.08406230124164162, 0.03677725679321821, 0.04263320742208966, 0.02842213828139311, 0.8810862867231863, 0.04263320742208966, 0.294000617886578, 0.16100033836645938, 0.16800035307804456, 0.18900039721280013, 0.18900039721280013, 0.04969276843189148, 0.8012958909642501, 0.06211596053986435, 0.08075074870182365, 0.01242319210797287, 0.9244384397428786, 0.08233017355999814, 0.7986026835319819, 0.0576311214919987, 0.0576311214919987, 0.008233017355999813, 0.868434865344747, 0.06203106181033907, 0.06659024964303939, 0.8878699952405252, 0.044393499762026264, 0.124549734976913, 0.6974785158707129, 0.0622748674884565, 0.10586727473037606, 0.018682460246536952, 0.9829207893271971, 0.10166446290234747, 0.7624834717676061, 0.06354028931396717, 0.050832231451173736, 0.021180096437989057, 0.12057593561985756, 0.8621179396819816, 0.006028796780992878, 0.006028796780992878, 0.09175662730360881, 0.007646385608634068, 0.6958210903857002, 0.09940301291224288, 0.10704939852087694, 0.011754813423452953, 0.9756495141465951, 0.9355099377905233, 0.050116603810206606, 0.9802293642320137, 0.8499039082734751, 0.13598462532375602, 0.01069095347438164, 0.7590576966810963, 0.17461890674823344, 0.039200162739399344, 0.014254604632508851, 0.9611387113323311, 0.9515800873378506, 0.023209270422874403, 0.9024379969817343, 0.6819572059148237, 0.1753604243780975, 0.13639144118296473, 0.11841610476203268, 0.8289127333342288, 0.12991535644661514, 0.059960933744591605, 0.029980466872295802, 0.7794921386796908, 0.028498061517185806, 0.05699612303437161, 0.5200896226886409, 0.3348522228269332, 0.05699612303437161, 0.06774923467332204, 0.35959209172763235, 0.2553624999225215, 0.24493954074201044, 0.07296071426357759, 0.11502838689993004, 0.008216313349995003, 0.4108156674997502, 0.4683298609497152, 0.4926535622037419, 0.0923725429132016, 0.4105446351697849, 0.8003702970162131, 0.1750810024722966, 0.9574835612393238, 0.8822453304812626, 0.11417292512110458, 0.9776537388105492, 0.007792591114752458, 0.31689870533326664, 0.3584591912786131, 0.20000983861197977, 0.11688886672128687, 0.25886062176903113, 0.006723652513481328, 0.7328781239694647, 0.16554166141391669, 0.06621666456556667, 0.7614916425040168, 0.9745989226472472, 0.26588229271686636, 0.041981414639505214, 0.4711247642877807, 0.11195043903868057, 0.10728583741206889, 0.06405949310904842, 0.21780227657076462, 0.7174663228213423, 0.9631017966815697, 0.04647776264844198, 0.7635632435101182, 0.11951424681027938, 0.06639680378348854, 0.2992972906826429, 0.06569940527179965, 0.37959656379262025, 0.18249834797722128, 0.07299933919088851, 0.027822640783476505, 0.7790339419373421, 0.07949325938136144, 0.10731590016483794, 0.007949325938136144, 0.9701476914187418, 0.9473602303619104, 0.948413613061368, 0.9118608235039544, 0.047992674921260754, 0.08151291072441084, 0.8966420179685193, 0.8626553616897757, 0.09585059574330841, 0.059131439626337795, 0.886971594395067, 0.8884687713897476, 0.9605679406285293, 0.1659495219954115, 0.13829126832950958, 0.027658253665901918, 0.663798087981646, 0.07935708736998083, 0.5177105223660654, 0.27586035133374287, 0.011336726767140119, 0.11336726767140118, 0.16939664175812522, 0.3493805736261333, 0.2329203824174222, 0.22233309230753937, 0.026468225274707068, 0.10708339105755561, 0.04942310356502567, 0.7166350016928722, 0.024711551782512834, 0.09884620713005134, 0.4974143618873648, 0.03730607714155236, 0.33575469427397125, 0.012435359047184121, 0.1243535904718412, 0.21161431249526966, 0.04232286249905393, 0.7194886624839169, 0.053372228654461895, 0.33090781765766375, 0.6084434066608656, 0.13227733520669516, 0.7936640112401708, 0.612885128102067, 0.09128076375988232, 0.013040109108554618, 0.28688240038820156, 0.1574861288161576, 0.7639752631932751, 0.03350768698216119, 0.04355999307680954, 0.1639032261660875, 0.5175891352613289, 0.0560721563199773, 0.26310781042450887, 0.018906801908416485, 0.05672040572524946, 0.018906801908416485, 0.8886196896955748, 0.9744399170800659, 0.030680378518036653, 0.020453585678691103, 0.9101845627017541, 0.040907171357382206, 0.7353035410550549, 0.021008672601572995, 0.16806938081258396, 0.04201734520314599, 0.3772738854972156, 0.3772738854972156, 0.23689290484708886, 0.12662392248223858, 0.042207974160746196, 0.8019515090541777, 0.06459196627465871, 0.014905838371075088, 0.5415787941490615, 0.05465474069394199, 0.3279284441636519, 0.8885033605386122, 0.9911598447263712, 0.8881606318260034, 0.08326505923368781, 0.027755019744562605, 0.9545273045137928, 0.9635992052897318, 0.11757056629527138, 0.8229939640668996, 0.011046506083230831, 0.022093012166461663, 0.7953484379926198, 0.16569759124846245, 0.9704960858298806, 0.9722827061717092, 0.1470704458884408, 0.16808050958678947, 0.6933321020455065, 0.9744313233226879, 0.011376440379333644, 0.8873623495880243, 0.09101152303466915, 0.12687554189508887, 0.5779885797442937, 0.16916738919345184, 0.07988460045246336, 0.04699094144262551, 0.9829272400055127, 0.8157177090052172, 0.16994118937608693, 0.9699777034068048, 0.6497983267739507, 0.34060995465327004, 0.005027453205214318, 0.0037705899039107388, 0.008335574192829808, 0.03334229677131923, 0.8418929934758107, 0.016671148385659616, 0.1000268903139577, 0.05571886642522133, 0.9026456360885855, 0.011143773285044265, 0.02228754657008853, 0.011143773285044265, 0.01162769444312367, 0.3197615971859009, 0.45929393050338496, 0.20929849997622607, 0.010965326071921003, 0.08772260857536802, 0.4715090210926031, 0.3508904343014721, 0.08772260857536802, 0.04126281331811688, 0.2970922558904415, 0.033010250654493506, 0.6354473250989999, 0.06048672385370841, 0.06048672385370841, 0.18146017156112523, 0.10887610293667513, 0.5927698937663424, 0.9643865844781495, 0.9875533641113928, 0.1654030516360982, 0.06810713890898161, 0.43783160727202464, 0.0827015258180491, 0.2481045774541473, 0.03162003893884024, 0.010540012979613413, 0.4216005191845365, 0.021080025959226825, 0.5164606360010572, 0.22052000416155704, 0.22052000416155704, 0.30396000573620024, 0.19072000359918445, 0.06556000123721965, 0.015896887698707188, 0.04769066309612156, 0.06358755079482875, 0.8663803795795417, 0.95360943240496, 0.03405747972874857, 0.9065991095395377, 0.060439940635969185, 0.01757781606213671, 0.14062252849709367, 0.17577816062136709, 0.6503791942990582, 0.02791607706425361, 0.13958038532126804, 0.8095662348633547, 0.02791607706425361, 0.8833752587600243, 0.03840761994608802, 0.03840761994608802, 0.01920380997304401, 0.9716921472826155, 0.960566355460207, 0.9405502978255145, 0.9405412038041129, 0.9079691208422219, 0.012256500217252437, 0.010213750181043698, 0.5127302590883936, 0.022470250398296136, 0.44123400782108774, 0.05103951332096244, 0.9442309964378052, 0.006010068133164104, 0.02704530659923847, 0.35459401985668215, 0.006010068133164104, 0.6070168814495746, 0.6978850825109374, 0.11915111164820882, 0.017021587378315547, 0.15319428640483992, 0.9744339438438203, 0.9526379848539555, 0.0414190428197372, 0.979865147608482, 0.0137470039408237, 0.1237230354674133, 0.1099760315265896, 0.7560852167453035, 0.014160771260907505, 0.04248231378272251, 0.3681800527835951, 0.5239485366535777, 0.04248231378272251, 0.8413569826964893, 0.15775443425559174, 0.905157783284887, 0.9445947202389945, 0.302226738325723, 0.03514264399136314, 0.30925526712399565, 0.13354204716717993, 0.2249129215447241, 0.9544293312441656, 0.019883944400920117, 0.944602219978354, 0.9869683295205787, 0.011027579100788588, 0.9079169221671672, 0.9714381734269597, 0.8463459395714443, 0.14105765659524072, 0.13249202755446565, 0.8391161745116158, 0.8743890607343131, 0.10089104546934383, 0.016815174244890638, 0.9866111350944111, 0.9323344720268262, 0.8971051338798672, 0.14208135009655043, 0.8524881005793026, 0.03001060189667619, 0.8252915521585952, 0.09003180569002857, 0.05251855331918333, 0.028706979374163777, 0.8827396157555361, 0.08612093812249133, 0.00834250216066312, 0.8425927182269752, 0.09176752376729433, 0.025027506481989363, 0.025027506481989363, 0.8811942001312623, 0.08811942001312623, 0.18158522663729995, 0.7989749972041198, 0.026858860969550473, 0.966918994903817, 0.02550962944890725, 0.9693659190584756, 0.003332215688843213, 0.026657725510745703, 0.3398860002620077, 0.003332215688843213, 0.626456549502524, 0.02420290234125594, 0.5485991197351346, 0.41951697391510295, 0.008067634113751979, 0.3915154297197346, 0.10282223406780908, 0.13841454586051222, 0.12259574061931082, 0.2412367799283213, 0.7365515835081528, 0.07891624109015923, 0.10522165478687896, 0.07891624109015923, 0.04707388716989026, 0.04707388716989026, 0.8944038562279151, 0.09149900840221918, 0.04574950420110959, 0.27449702520665753, 0.5947435546144247, 0.035239500808612954, 0.9162270210239367, 0.035239500808612954, 0.9574769899823159, 0.9724364611098495, 0.9829182811682177, 0.9920346574059906, 0.02836223236868175, 0.9501347843508386, 0.014181116184340875, 0.9824863653261967, 0.4717983619980782, 0.2917700396567062, 0.06207873184185239, 0.031039365920926196, 0.14278108323626051, 0.17937804472303978, 0.5637595691295536, 0.14643105691676717, 0.08419785772714111, 0.025625434960434252, 0.026462572931184515, 0.3598909918641094, 0.4816188273475582, 0.12702035006968568, 0.005292514586236903, 0.9617373889594624, 0.007341506785950094, 0.03670753392975047, 0.9394107212907982, 0.2445595728614558, 0.209622491024105, 0.28337855268073453, 0.21738628698796073, 0.04270087780120657, 0.003943164126078272, 0.37854375610351415, 0.26024883232116597, 0.13012441616058298, 0.2287035193125398, 0.94579618437033, 0.0378318473748132, 0.9850426285038314, 0.006791389991097655, 0.16978474977744135, 0.6112250991987889, 0.15620196979524606, 0.06112250991987889, 0.014857350090565494, 0.794868229845254, 0.014857350090565494, 0.1708595260415032], \"Term\": [\"000\", \"000\", \"000\", \"000\", \"000\", \"10\", \"10\", \"10\", \"10\", \"10\", \"1960\", \"1960\", \"1960\", \"1960\", \"36\", \"36\", \"academy\", \"academy\", \"act\", \"act\", \"act\", \"act\", \"act\", \"administration\", \"administration\", \"administration\", \"administration\", \"af\", \"af\", \"af\", \"africa\", \"africa\", \"agencies\", \"agencies\", \"agencies\", \"agencies\", \"agreement\", \"agreement\", \"agreement\", \"agricultural\", \"agricultural\", \"agricultural\", \"air\", \"air\", \"air\", \"air\", \"air\", \"aircraft\", \"aircraft\", \"american\", \"american\", \"american\", \"american\", \"american\", \"ann\", \"anti\", \"anti\", \"anti\", \"apparatus\", \"appropriated\", \"area\", \"area\", \"area\", \"area\", \"area\", \"areas\", \"areas\", \"areas\", \"areas\", \"areas\", \"art\", \"art\", \"art\", \"art\", \"article\", \"article\", \"article\", \"article\", \"artist\", \"artists\", \"artists\", \"arts\", \"arts\", \"arts\", \"asked\", \"asked\", \"asked\", \"assessment\", \"attractions\", \"audience\", \"authorized\", \"authorized\", \"available\", \"available\", \"available\", \"available\", \"away\", \"away\", \"away\", \"away\", \"baby\", \"bars\", \"bars\", \"bars\", \"battery\", \"best\", \"best\", \"best\", \"best\", \"best\", \"better\", \"better\", \"better\", \"better\", \"better\", \"bill\", \"bill\", \"bill\", \"bill\", \"bloc\", \"board\", \"board\", \"board\", \"board\", \"board\", \"boat\", \"boat\", \"boat\", \"boat\", \"boats\", \"boats\", \"bonds\", \"bonds\", \"boy\", \"boy\", \"boy\", \"bridge\", \"bridge\", \"bridge\", \"brown\", \"brown\", \"brown\", \"brown\", \"builder\", \"builder\", \"business\", \"business\", \"business\", \"business\", \"business\", \"came\", \"came\", \"came\", \"came\", \"cars\", \"cars\", \"cars\", \"cars\", \"castro\", \"castro\", \"catholic\", \"catholic\", \"catholic\", \"cattle\", \"cent\", \"cent\", \"cent\", \"cent\", \"center\", \"center\", \"center\", \"center\", \"center\", \"chamber\", \"chamber\", \"charlie\", \"chef\", \"city\", \"city\", \"city\", \"city\", \"city\", \"clarity\", \"clarity\", \"clay\", \"clay\", \"clay\", \"clay\", \"club\", \"club\", \"club\", \"club\", \"coalition\", \"cold\", \"cold\", \"cold\", \"college\", \"college\", \"college\", \"college\", \"color\", \"color\", \"color\", \"come\", \"come\", \"come\", \"come\", \"commission\", \"commission\", \"commission\", \"commission\", \"commissioner\", \"committee\", \"committee\", \"committee\", \"committee\", \"commodities\", \"commodities\", \"components\", \"components\", \"concerts\", \"conference\", \"conference\", \"congo\", \"congress\", \"congress\", \"congress\", \"congress\", \"consequence\", \"contemporary\", \"contemporary\", \"convey\", \"cooling\", \"cooling\", \"cost\", \"cost\", \"cost\", \"cost\", \"cost\", \"couldn\", \"couldn\", \"countries\", \"countries\", \"countries\", \"countries\", \"country\", \"country\", \"country\", \"country\", \"country\", \"county\", \"county\", \"county\", \"county\", \"court\", \"court\", \"court\", \"court\", \"creative\", \"creative\", \"cuba\", \"cuba\", \"curriculum\", \"cut\", \"cut\", \"cut\", \"cut\", \"cycle\", \"day\", \"day\", \"day\", \"day\", \"day\", \"decorations\", \"democratic\", \"democratic\", \"demonstrated\", \"department\", \"department\", \"department\", \"design\", \"design\", \"design\", \"design\", \"designer\", \"designer\", \"despite\", \"despite\", \"development\", \"development\", \"development\", \"development\", \"didn\", \"didn\", \"didn\", \"district\", \"district\", \"don\", \"don\", \"don\", \"don\", \"drill\", \"drill\", \"drill\", \"editor\", \"editor\", \"editor\", \"editor\", \"editor\", \"eisenhower\", \"eisenhower\", \"election\", \"entertainment\", \"entertainment\", \"experiments\", \"experiments\", \"export\", \"export\", \"export\", \"eyes\", \"eyes\", \"eyes\", \"facility\", \"faculty\", \"faculty\", \"faculty\", \"family\", \"family\", \"family\", \"family\", \"farmers\", \"feed\", \"feed\", \"feed\", \"fig\", \"fig\", \"fig\", \"filing\", \"financed\", \"financed\", \"fiscal\", \"fiscal\", \"fishing\", \"fishing\", \"fishing\", \"flexibility\", \"flexibility\", \"forest\", \"forest\", \"forest\", \"forests\", \"forests\", \"formula\", \"formula\", \"formula\", \"foundation\", \"foundation\", \"foundation\", \"frame\", \"frame\", \"furniture\", \"furniture\", \"gallery\", \"gallery\", \"gave\", \"gave\", \"gave\", \"gave\", \"general\", \"general\", \"general\", \"general\", \"general\", \"generations\", \"generations\", \"georgia\", \"georgia\", \"girl\", \"girl\", \"god\", \"going\", \"going\", \"going\", \"going\", \"golf\", \"golf\", \"golf\", \"good\", \"good\", \"good\", \"good\", \"good\", \"got\", \"got\", \"got\", \"government\", \"government\", \"government\", \"government\", \"governor\", \"governor\", \"greece\", \"hadn\", \"hair\", \"hammarskjold\", \"heat\", \"heat\", \"heat\", \"heat\", \"heating\", \"high\", \"high\", \"high\", \"high\", \"high\", \"home\", \"home\", \"home\", \"home\", \"home\", \"house\", \"house\", \"house\", \"house\", \"house\", \"inch\", \"inch\", \"inch\", \"inch\", \"independence\", \"independence\", \"india\", \"india\", \"india\", \"industry\", \"industry\", \"industry\", \"industry\", \"inexpensive\", \"interference\", \"interference\", \"interference\", \"interior\", \"interior\", \"interior\", \"island\", \"island\", \"island\", \"island\", \"island\", \"jr\", \"jr\", \"katanga\", \"katanga\", \"kennedy\", \"kennedy\", \"kennedy\", \"khrushchev\", \"khrushchev\", \"knew\", \"knew\", \"know\", \"know\", \"know\", \"know\", \"labor\", \"labor\", \"labor\", \"labor\", \"large\", \"large\", \"large\", \"large\", \"large\", \"left\", \"left\", \"left\", \"left\", \"left\", \"lengths\", \"let\", \"let\", \"let\", \"let\", \"let\", \"lever\", \"lever\", \"library\", \"library\", \"library\", \"life\", \"life\", \"life\", \"life\", \"life\", \"listening\", \"little\", \"little\", \"little\", \"little\", \"little\", \"ll\", \"ll\", \"ll\", \"ll\", \"local\", \"local\", \"local\", \"local\", \"local\", \"looked\", \"looked\", \"love\", \"love\", \"loved\", \"lumber\", \"lumber\", \"man\", \"man\", \"man\", \"man\", \"man\", \"managers\", \"marketing\", \"marketing\", \"masters\", \"materials\", \"materials\", \"materials\", \"measuring\", \"measuring\", \"medical\", \"medical\", \"medical\", \"medical\", \"members\", \"members\", \"members\", \"members\", \"members\", \"men\", \"men\", \"men\", \"men\", \"men\", \"military\", \"military\", \"military\", \"military\", \"miss\", \"miss\", \"miss\", \"missile\", \"missile\", \"missouri\", \"mother\", \"mother\", \"motors\", \"mr\", \"mr\", \"mr\", \"mr\", \"mr\", \"mrs\", \"mrs\", \"mrs\", \"music\", \"music\", \"music\", \"musical\", \"national\", \"national\", \"national\", \"national\", \"national\", \"nations\", \"nations\", \"nations\", \"nice\", \"night\", \"night\", \"night\", \"night\", \"number\", \"number\", \"number\", \"number\", \"number\", \"old\", \"old\", \"old\", \"old\", \"old\", \"orchestra\", \"oriental\", \"orleans\", \"outdoor\", \"outdoor\", \"overseas\", \"overseas\", \"package\", \"package\", \"painted\", \"painted\", \"painter\", \"pale\", \"peace\", \"peace\", \"peace\", \"peace\", \"people\", \"people\", \"people\", \"people\", \"people\", \"place\", \"place\", \"place\", \"place\", \"place\", \"plan\", \"plan\", \"plan\", \"plan\", \"plan\", \"plant\", \"plant\", \"plant\", \"plant\", \"plant\", \"player\", \"player\", \"player\", \"policy\", \"policy\", \"policy\", \"politicians\", \"politicians\", \"pool\", \"pool\", \"pool\", \"pool\", \"president\", \"president\", \"president\", \"president\", \"program\", \"program\", \"program\", \"program\", \"projects\", \"projects\", \"projects\", \"projects\", \"promotion\", \"property\", \"property\", \"property\", \"property\", \"protection\", \"protection\", \"protection\", \"protection\", \"provide\", \"provide\", \"provide\", \"provisions\", \"provisions\", \"provisions\", \"public\", \"public\", \"public\", \"public\", \"public\", \"ray\", \"rayburn\", \"recreation\", \"recreation\", \"recreation\", \"rehabilitation\", \"relating\", \"relevant\", \"relevant\", \"report\", \"report\", \"report\", \"report\", \"republican\", \"republicans\", \"respect\", \"respect\", \"respect\", \"revenues\", \"rhode\", \"rhode\", \"rhode\", \"right\", \"right\", \"right\", \"right\", \"right\", \"rome\", \"roof\", \"roof\", \"rural\", \"said\", \"said\", \"said\", \"said\", \"sales\", \"sales\", \"sales\", \"sales\", \"sales\", \"saw\", \"saw\", \"saw\", \"saw\", \"saw\", \"school\", \"school\", \"school\", \"school\", \"schools\", \"schools\", \"schools\", \"schools\", \"schools\", \"secretary\", \"secretary\", \"secretary\", \"secretary\", \"section\", \"section\", \"section\", \"section\", \"section\", \"selling\", \"sen\", \"service\", \"service\", \"service\", \"service\", \"service\", \"services\", \"services\", \"services\", \"services\", \"services\", \"set\", \"set\", \"set\", \"set\", \"set\", \"shall\", \"shall\", \"shall\", \"shall\", \"shelter\", \"shelter\", \"shooting\", \"shooting\", \"sign\", \"sign\", \"sign\", \"sign\", \"signs\", \"signs\", \"signs\", \"signs\", \"site\", \"site\", \"site\", \"site\", \"sitting\", \"smiled\", \"snow\", \"somebody\", \"soviets\", \"state\", \"state\", \"state\", \"state\", \"state\", \"statement\", \"statement\", \"states\", \"states\", \"states\", \"states\", \"states\", \"stations\", \"stations\", \"stations\", \"stations\", \"stockholders\", \"stood\", \"stood\", \"stopped\", \"student\", \"student\", \"student\", \"student\", \"students\", \"students\", \"students\", \"students\", \"students\", \"super\", \"super\", \"surfaces\", \"surprised\", \"system\", \"system\", \"system\", \"system\", \"system\", \"talk\", \"talk\", \"talked\", \"tax\", \"tax\", \"technicians\", \"temperature\", \"temperatures\", \"temperatures\", \"testing\", \"testing\", \"texas\", \"texas\", \"texas\", \"textile\", \"texture\", \"thereof\", \"thickness\", \"thickness\", \"think\", \"think\", \"think\", \"think\", \"thought\", \"thought\", \"thought\", \"took\", \"took\", \"took\", \"took\", \"took\", \"trap\", \"trap\", \"treasury\", \"treasury\", \"trial\", \"trial\", \"trust\", \"trust\", \"united\", \"united\", \"united\", \"united\", \"united\", \"university\", \"university\", \"university\", \"university\", \"use\", \"use\", \"use\", \"use\", \"use\", \"vacation\", \"vacation\", \"vacation\", \"vacation\", \"vehicles\", \"vehicles\", \"vehicles\", \"volume\", \"volume\", \"volume\", \"volume\", \"vote\", \"vote\", \"vote\", \"voters\", \"wages\", \"waited\", \"walked\", \"wanted\", \"wanted\", \"wanted\", \"wasn\", \"water\", \"water\", \"water\", \"water\", \"water\", \"way\", \"way\", \"way\", \"way\", \"way\", \"week\", \"week\", \"week\", \"week\", \"week\", \"went\", \"went\", \"went\", \"wildlife\", \"work\", \"work\", \"work\", \"work\", \"work\", \"world\", \"world\", \"world\", \"world\", \"world\", \"yankees\", \"yankees\", \"yes\", \"york\", \"york\", \"york\", \"york\", \"york\", \"young\", \"young\", \"young\", \"young\"]}, \"R\": 30, \"lambda.step\": 0.01, \"plot.opts\": {\"xlab\": \"PC1\", \"ylab\": \"PC2\"}, \"topic.order\": [1, 2, 3, 4, 5]};\n",
       "\n",
       "function LDAvis_load_lib(url, callback){\n",
       "  var s = document.createElement('script');\n",
       "  s.src = url;\n",
       "  s.async = true;\n",
       "  s.onreadystatechange = s.onload = callback;\n",
       "  s.onerror = function(){console.warn(\"failed to load library \" + url);};\n",
       "  document.getElementsByTagName(\"head\")[0].appendChild(s);\n",
       "}\n",
       "\n",
       "if(typeof(LDAvis) !== \"undefined\"){\n",
       "   // already loaded: just create the visualization\n",
       "   !function(LDAvis){\n",
       "       new LDAvis(\"#\" + \"ldavis_el748611404078989953925220348489\", ldavis_el748611404078989953925220348489_data);\n",
       "   }(LDAvis);\n",
       "}else if(typeof define === \"function\" && define.amd){\n",
       "   // require.js is available: use it to load d3/LDAvis\n",
       "   require.config({paths: {d3: \"https://d3js.org/d3.v5\"}});\n",
       "   require([\"d3\"], function(d3){\n",
       "      window.d3 = d3;\n",
       "      LDAvis_load_lib(\"https://cdn.jsdelivr.net/gh/bmabey/pyLDAvis@3.4.0/pyLDAvis/js/ldavis.v3.0.0.js\", function(){\n",
       "        new LDAvis(\"#\" + \"ldavis_el748611404078989953925220348489\", ldavis_el748611404078989953925220348489_data);\n",
       "      });\n",
       "    });\n",
       "}else{\n",
       "    // require.js not available: dynamically load d3 & LDAvis\n",
       "    LDAvis_load_lib(\"https://d3js.org/d3.v5.js\", function(){\n",
       "         LDAvis_load_lib(\"https://cdn.jsdelivr.net/gh/bmabey/pyLDAvis@3.4.0/pyLDAvis/js/ldavis.v3.0.0.js\", function(){\n",
       "                 new LDAvis(\"#\" + \"ldavis_el748611404078989953925220348489\", ldavis_el748611404078989953925220348489_data);\n",
       "            })\n",
       "         });\n",
       "}\n",
       "</script>"
      ],
      "text/plain": [
       "<IPython.core.display.HTML object>"
      ]
     },
     "execution_count": 70,
     "metadata": {},
     "output_type": "execute_result"
    }
   ],
   "source": [
    "pyLDAvis.display(lda_display)"
   ]
  },
  {
   "cell_type": "markdown",
   "id": "a3d14c87",
   "metadata": {},
   "source": [
    "Q: What conclusions do you draw from the visualization above? Please address the principal component scatterplot and the salient terms graph.\n",
    "\n",
    "A: The principal component scatterplot shows distribution of topics with topic 3 and topic 2 appear to have the largest representation within the dataset indicating these two topics have a higher frequency compared to other topics. Also it could also be seen that  3 and 5 are most similar to each other as well as 2 and 4 to each other. On the other hand, topic 1 seem to be most different from other topics. in addition, the salient terms graph displays the most relevant terms for each topic, highlighting their importance and prevalence within the corpus. It helps to identify the key themes and concepts associated with each topic. These graphs provide such good details and valuable insight.\n",
    "\n"
   ]
  },
  {
   "cell_type": "code",
   "execution_count": null,
   "id": "e8a8e3e1",
   "metadata": {},
   "outputs": [],
   "source": []
  }
 ],
 "metadata": {
  "kernelspec": {
   "display_name": "Python 3 (ipykernel)",
   "language": "python",
   "name": "python3"
  },
  "language_info": {
   "codemirror_mode": {
    "name": "ipython",
    "version": 3
   },
   "file_extension": ".py",
   "mimetype": "text/x-python",
   "name": "python",
   "nbconvert_exporter": "python",
   "pygments_lexer": "ipython3",
   "version": "3.9.7"
  }
 },
 "nbformat": 4,
 "nbformat_minor": 5
}
